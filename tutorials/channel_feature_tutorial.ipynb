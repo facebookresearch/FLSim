{
  "nbformat": 4,
  "nbformat_minor": 0,
  "metadata": {
    "kernelspec": {
      "display_name": "Python3",
      "language": "python",
      "name": "Python3",
      "metadata": {}
    },
    "language_info": {
      "codemirror_mode": {
        "name": "ipython",
        "version": 3
      },
      "file_extension": ".py",
      "mimetype": "text/x-python",
      "name": "python",
      "nbconvert_exporter": "python",
      "pygments_lexer": "ipython3"
    },
    "last_server_session_id": "4dcf7f7d-d463-42f0-97d7-71e77cdb2b88",
    "last_kernel_id": "a2160017-dec8-4c85-ab1b-725ed083362a",
    "last_base_url": "",
    "last_msg_id": "dcee5f71-a85ac00b09c292d9be063e81_722",
    "captumWidgetMessage": {},
    "outputWidgetContext": {},
    "colab": {
      "name": "Using model update compression.ipynb",
      "provenance": [],
      "collapsed_sections": []
    },
    "accelerator": "GPU",
    "widgets": {
      "application/vnd.jupyter.widget-state+json": {
        "2b6c37b7c7d2442d91efe996d223295a": {
          "model_module": "@jupyter-widgets/controls",
          "model_name": "HBoxModel",
          "model_module_version": "1.5.0",
          "state": {
            "_view_name": "HBoxView",
            "_dom_classes": [],
            "_model_name": "HBoxModel",
            "_view_module": "@jupyter-widgets/controls",
            "_model_module_version": "1.5.0",
            "_view_count": null,
            "_view_module_version": "1.5.0",
            "box_style": "",
            "layout": "IPY_MODEL_c4fb53c08dda4f07b40e6301e2b6b10a",
            "_model_module": "@jupyter-widgets/controls",
            "children": [
              "IPY_MODEL_11ef08622bb24c659eb1a95709e2a0d4",
              "IPY_MODEL_ab1334f837b246fa8026667eee3ec76f",
              "IPY_MODEL_744f07658010497a8003b87399f2fe5b"
            ]
          }
        },
        "c4fb53c08dda4f07b40e6301e2b6b10a": {
          "model_module": "@jupyter-widgets/base",
          "model_name": "LayoutModel",
          "model_module_version": "1.2.0",
          "state": {
            "_view_name": "LayoutView",
            "grid_template_rows": null,
            "right": null,
            "justify_content": null,
            "_view_module": "@jupyter-widgets/base",
            "overflow": null,
            "_model_module_version": "1.2.0",
            "_view_count": null,
            "flex_flow": null,
            "width": null,
            "min_width": null,
            "border": null,
            "align_items": null,
            "bottom": null,
            "_model_module": "@jupyter-widgets/base",
            "top": null,
            "grid_column": null,
            "overflow_y": null,
            "overflow_x": null,
            "grid_auto_flow": null,
            "grid_area": null,
            "grid_template_columns": null,
            "flex": null,
            "_model_name": "LayoutModel",
            "justify_items": null,
            "grid_row": null,
            "max_height": null,
            "align_content": null,
            "visibility": null,
            "align_self": null,
            "height": null,
            "min_height": null,
            "padding": null,
            "grid_auto_rows": null,
            "grid_gap": null,
            "max_width": null,
            "order": null,
            "_view_module_version": "1.2.0",
            "grid_template_areas": null,
            "object_position": null,
            "object_fit": null,
            "grid_auto_columns": null,
            "margin": null,
            "display": null,
            "left": null
          }
        },
        "11ef08622bb24c659eb1a95709e2a0d4": {
          "model_module": "@jupyter-widgets/controls",
          "model_name": "HTMLModel",
          "model_module_version": "1.5.0",
          "state": {
            "_view_name": "HTMLView",
            "style": "IPY_MODEL_33d0655d8907486897075ab6bf07c00e",
            "_dom_classes": [],
            "description": "",
            "_model_name": "HTMLModel",
            "placeholder": "​",
            "_view_module": "@jupyter-widgets/controls",
            "_model_module_version": "1.5.0",
            "value": "",
            "_view_count": null,
            "_view_module_version": "1.5.0",
            "description_tooltip": null,
            "_model_module": "@jupyter-widgets/controls",
            "layout": "IPY_MODEL_9d4665a8df7142438f931ad5d2445978"
          }
        },
        "ab1334f837b246fa8026667eee3ec76f": {
          "model_module": "@jupyter-widgets/controls",
          "model_name": "FloatProgressModel",
          "model_module_version": "1.5.0",
          "state": {
            "_view_name": "ProgressView",
            "style": "IPY_MODEL_87bc417347f9480f9e22de299da7c430",
            "_dom_classes": [],
            "description": "",
            "_model_name": "FloatProgressModel",
            "bar_style": "success",
            "max": 170498071,
            "_view_module": "@jupyter-widgets/controls",
            "_model_module_version": "1.5.0",
            "value": 170498071,
            "_view_count": null,
            "_view_module_version": "1.5.0",
            "orientation": "horizontal",
            "min": 0,
            "description_tooltip": null,
            "_model_module": "@jupyter-widgets/controls",
            "layout": "IPY_MODEL_7132302f1cb94fd586a4776d80a709f2"
          }
        },
        "744f07658010497a8003b87399f2fe5b": {
          "model_module": "@jupyter-widgets/controls",
          "model_name": "HTMLModel",
          "model_module_version": "1.5.0",
          "state": {
            "_view_name": "HTMLView",
            "style": "IPY_MODEL_7fbd003bfdb44eb7a857ee938e6a634f",
            "_dom_classes": [],
            "description": "",
            "_model_name": "HTMLModel",
            "placeholder": "​",
            "_view_module": "@jupyter-widgets/controls",
            "_model_module_version": "1.5.0",
            "value": " 170499072/? [00:12&lt;00:00, 13737717.76it/s]",
            "_view_count": null,
            "_view_module_version": "1.5.0",
            "description_tooltip": null,
            "_model_module": "@jupyter-widgets/controls",
            "layout": "IPY_MODEL_3bb258cc1a6541569095d92b808d8c5c"
          }
        },
        "33d0655d8907486897075ab6bf07c00e": {
          "model_module": "@jupyter-widgets/controls",
          "model_name": "DescriptionStyleModel",
          "model_module_version": "1.5.0",
          "state": {
            "_view_name": "StyleView",
            "_model_name": "DescriptionStyleModel",
            "description_width": "",
            "_view_module": "@jupyter-widgets/base",
            "_model_module_version": "1.5.0",
            "_view_count": null,
            "_view_module_version": "1.2.0",
            "_model_module": "@jupyter-widgets/controls"
          }
        },
        "9d4665a8df7142438f931ad5d2445978": {
          "model_module": "@jupyter-widgets/base",
          "model_name": "LayoutModel",
          "model_module_version": "1.2.0",
          "state": {
            "_view_name": "LayoutView",
            "grid_template_rows": null,
            "right": null,
            "justify_content": null,
            "_view_module": "@jupyter-widgets/base",
            "overflow": null,
            "_model_module_version": "1.2.0",
            "_view_count": null,
            "flex_flow": null,
            "width": null,
            "min_width": null,
            "border": null,
            "align_items": null,
            "bottom": null,
            "_model_module": "@jupyter-widgets/base",
            "top": null,
            "grid_column": null,
            "overflow_y": null,
            "overflow_x": null,
            "grid_auto_flow": null,
            "grid_area": null,
            "grid_template_columns": null,
            "flex": null,
            "_model_name": "LayoutModel",
            "justify_items": null,
            "grid_row": null,
            "max_height": null,
            "align_content": null,
            "visibility": null,
            "align_self": null,
            "height": null,
            "min_height": null,
            "padding": null,
            "grid_auto_rows": null,
            "grid_gap": null,
            "max_width": null,
            "order": null,
            "_view_module_version": "1.2.0",
            "grid_template_areas": null,
            "object_position": null,
            "object_fit": null,
            "grid_auto_columns": null,
            "margin": null,
            "display": null,
            "left": null
          }
        },
        "87bc417347f9480f9e22de299da7c430": {
          "model_module": "@jupyter-widgets/controls",
          "model_name": "ProgressStyleModel",
          "model_module_version": "1.5.0",
          "state": {
            "_view_name": "StyleView",
            "_model_name": "ProgressStyleModel",
            "description_width": "",
            "_view_module": "@jupyter-widgets/base",
            "_model_module_version": "1.5.0",
            "_view_count": null,
            "_view_module_version": "1.2.0",
            "bar_color": null,
            "_model_module": "@jupyter-widgets/controls"
          }
        },
        "7132302f1cb94fd586a4776d80a709f2": {
          "model_module": "@jupyter-widgets/base",
          "model_name": "LayoutModel",
          "model_module_version": "1.2.0",
          "state": {
            "_view_name": "LayoutView",
            "grid_template_rows": null,
            "right": null,
            "justify_content": null,
            "_view_module": "@jupyter-widgets/base",
            "overflow": null,
            "_model_module_version": "1.2.0",
            "_view_count": null,
            "flex_flow": null,
            "width": null,
            "min_width": null,
            "border": null,
            "align_items": null,
            "bottom": null,
            "_model_module": "@jupyter-widgets/base",
            "top": null,
            "grid_column": null,
            "overflow_y": null,
            "overflow_x": null,
            "grid_auto_flow": null,
            "grid_area": null,
            "grid_template_columns": null,
            "flex": null,
            "_model_name": "LayoutModel",
            "justify_items": null,
            "grid_row": null,
            "max_height": null,
            "align_content": null,
            "visibility": null,
            "align_self": null,
            "height": null,
            "min_height": null,
            "padding": null,
            "grid_auto_rows": null,
            "grid_gap": null,
            "max_width": null,
            "order": null,
            "_view_module_version": "1.2.0",
            "grid_template_areas": null,
            "object_position": null,
            "object_fit": null,
            "grid_auto_columns": null,
            "margin": null,
            "display": null,
            "left": null
          }
        },
        "7fbd003bfdb44eb7a857ee938e6a634f": {
          "model_module": "@jupyter-widgets/controls",
          "model_name": "DescriptionStyleModel",
          "model_module_version": "1.5.0",
          "state": {
            "_view_name": "StyleView",
            "_model_name": "DescriptionStyleModel",
            "description_width": "",
            "_view_module": "@jupyter-widgets/base",
            "_model_module_version": "1.5.0",
            "_view_count": null,
            "_view_module_version": "1.2.0",
            "_model_module": "@jupyter-widgets/controls"
          }
        },
        "3bb258cc1a6541569095d92b808d8c5c": {
          "model_module": "@jupyter-widgets/base",
          "model_name": "LayoutModel",
          "model_module_version": "1.2.0",
          "state": {
            "_view_name": "LayoutView",
            "grid_template_rows": null,
            "right": null,
            "justify_content": null,
            "_view_module": "@jupyter-widgets/base",
            "overflow": null,
            "_model_module_version": "1.2.0",
            "_view_count": null,
            "flex_flow": null,
            "width": null,
            "min_width": null,
            "border": null,
            "align_items": null,
            "bottom": null,
            "_model_module": "@jupyter-widgets/base",
            "top": null,
            "grid_column": null,
            "overflow_y": null,
            "overflow_x": null,
            "grid_auto_flow": null,
            "grid_area": null,
            "grid_template_columns": null,
            "flex": null,
            "_model_name": "LayoutModel",
            "justify_items": null,
            "grid_row": null,
            "max_height": null,
            "align_content": null,
            "visibility": null,
            "align_self": null,
            "height": null,
            "min_height": null,
            "padding": null,
            "grid_auto_rows": null,
            "grid_gap": null,
            "max_width": null,
            "order": null,
            "_view_module_version": "1.2.0",
            "grid_template_areas": null,
            "object_position": null,
            "object_fit": null,
            "grid_auto_columns": null,
            "margin": null,
            "display": null,
            "left": null
          }
        }
      }
    }
  },
  "cells": [
    {
      "cell_type": "markdown",
      "metadata": {
        "originalKey": "ef12966a-7e07-446b-b931-4235e269f994",
        "showInput": false,
        "code_folding": [],
        "hidden_ranges": [],
        "collapsed": true,
        "id": "3bK3FXzuwwWi"
      },
      "source": [
        "# FLSim Tutorial: Features to compress client updates for communication efficiency\n"
      ]
    },
    {
      "cell_type": "markdown",
      "metadata": {
        "originalKey": "669ad0e3-282b-41be-aad0-2c111b3402be",
        "showInput": false,
        "code_folding": [],
        "hidden_ranges": [],
        "id": "-cud3a-RwwWl"
      },
      "source": [
        "## Introduction\n",
        "\n",
        "In this tutorial, we will look at how to use FL Simulator channels to compress client to server messages for communication efficiency. Several approaches, such as quantization, sparsity and sketching have been shown to be useful, and here we guide you through using support in the simulator for three basic techniques, namely half-precision, scalar quantization and Top-K sparsity."
      ]
    },
    {
      "cell_type": "markdown",
      "metadata": {
        "originalKey": "bcb5f56d-908e-4978-9e60-73c794d1de79",
        "showInput": false,
        "code_folding": [],
        "hidden_ranges": [],
        "id": "juLJefjwwwWl"
      },
      "source": [
        "### Prerequisites\n",
        "\n",
        "Communication efficiency in federated learning is an important problem, as we have to transmit messages between the server (which is usually in a datacenter) and clients, which for example could be mobile devices communicating through a low-bandwidth channel. This causes a bottleneck, specially for the download phase where clients upload model updates to the server. One of the ways this can be addressed is by applying different techniques for compressing the client update. To get started with the motivation for this and get introduced to some of the background techniques, here is a recommended reading list:\n",
        "- Jakub Konečný, H. Brendan McMahan, Felix X. Yu, Peter Richtarik, Ananda Theertha Suresh, Dave Bacon, \"Federated Learning: Strategies for Improving Communication Efficiency\", \n",
        "NIPS Workshop on Private Multi-Party Machine Learning (2016) https://research.google/pubs/pub45648/\n",
        "- Sattler, Felix, et al. \"Robust and communication-efficient federated learning from non-iid data.\" IEEE transactions on neural networks and learning systems 31.9 (2019): 3400-3413. https://ieeexplore.ieee.org/stamp/stamp.jsp?arnumber=8889996\n",
        "\n",
        "\n",
        "Now that you're familiar with the motivation and basic techniques for communication efficiency, lets get started !\n"
      ]
    },
    {
      "cell_type": "markdown",
      "metadata": {
        "originalKey": "6c37e934-b30b-4946-8acf-f308b487688f",
        "showInput": false,
        "code_folding": [],
        "hidden_ranges": [],
        "id": "BpAyiL32wwWm"
      },
      "source": [
        "### Objectives \n",
        "\n",
        "By the end of this tutorial, we will have learnt how to\n",
        "\n",
        "1. Setup a basic model training pipeline on the Cifar10 task\n",
        "2. Configure different channels for quantization and sparsity\n",
        "3. Setup channel measurements for tracking communication\n",
        "5. Launch FL training flows using FLSim with quantization and sparsity"
      ]
    },
    {
      "cell_type": "markdown",
      "metadata": {
        "originalKey": "b2a57ec9-bb33-4df6-9608-0abe10445108",
        "showInput": false,
        "code_folding": [],
        "hidden_ranges": [],
        "id": "7ircLt3XwwWm"
      },
      "source": [
        "## Setup a basic training pipeline for the Cifar10 task"
      ]
    },
    {
      "cell_type": "markdown",
      "metadata": {
        "id": "puiDK1YnxjVF"
      },
      "source": [
        "### Prerequisite\n",
        "Let's install flsim via pip with the command below."
      ]
    },
    {
      "cell_type": "code",
      "metadata": {
        "id": "B_RqvNSaxhGB"
      },
      "source": [
        "!pip install --quiet flsim"
      ],
      "execution_count": 9,
      "outputs": []
    },
    {
      "cell_type": "markdown",
      "metadata": {
        "id": "QpP7RW_zAsFO"
      },
      "source": [
        "Subsequently, let us define the data pipeline and model for training on the Cifar10 task. This is similar to what we have done in the Cifar-10 tutorial at https://github.com/facebookresearch/FLSim/blob/main/tutorials/cifar10_tutorial.ipynb. "
      ]
    },
    {
      "cell_type": "code",
      "metadata": {
        "id": "ISGI6lCbB_3t"
      },
      "source": [
        "USE_CUDA = True\n",
        "LOCAL_BATCH_SIZE = 32\n",
        "EXAMPLES_PER_USER = 500\n",
        "IMAGE_SIZE = 32"
      ],
      "execution_count": 10,
      "outputs": []
    },
    {
      "cell_type": "markdown",
      "metadata": {
        "id": "9VvVm1nBGIFa"
      },
      "source": [
        "We setup the data pipeline for this task and import the model we will be training on Cifar-10. Similar to the Cifar-10 tutorial, it will be a standard four-layer convolutional neural network, with group norms and a linear layer. We also import the metrics reporter as in the original tutorial."
      ]
    },
    {
      "cell_type": "code",
      "metadata": {
        "id": "NCtBPedDGvfX"
      },
      "source": [
        "import torch\n",
        "from torchvision.datasets.cifar import CIFAR10\n",
        "from flsim.utils.example_utils import FLModel\n",
        "from flsim.utils.example_utils import SimpleConvNet\n",
        "\n",
        "cuda_enabled = torch.cuda.is_available() and USE_CUDA\n",
        "device = torch.device(f\"cuda:{0}\" if cuda_enabled else \"cpu\")"
      ],
      "execution_count": 11,
      "outputs": []
    },
    {
      "cell_type": "markdown",
      "metadata": {
        "id": "PdqmS5qCGxsO"
      },
      "source": [
        "We define a config for training on the Cifar-10 dataset with federated learning. This does not incorporate any settings for client update compression yet, as we will be showing in subsequent sections how to choose a technique and define the configuration for it. We will be modifying this config to incorporate different approaches such as half-precision, scalar quantization and sparsity, and also guide you through their compression parameters."
      ]
    },
    {
      "cell_type": "code",
      "metadata": {
        "id": "Sd0CC1aAFHmX"
      },
      "source": [
        "import flsim.configs\n",
        "from flsim.utils.config_utils import fl_config_from_json\n",
        "from omegaconf import OmegaConf\n",
        "\n",
        "\n",
        "json_config = {\n",
        "    \"trainer\": {\n",
        "        \"_base_\": \"base_sync_trainer\",\n",
        "        # there are different types of aggegator\n",
        "        # fed avg doesn't require lr, while others such as fed_avg_with_lr or fed_adam do\n",
        "        \"_base_\": \"base_sync_trainer\",\n",
        "        \"server\": {\n",
        "          \"_base_\": \"base_sync_server\",\n",
        "          \"server_optimizer\": {\n",
        "            \"_base_\": \"base_fed_avg_with_lr\",\n",
        "            \"lr\": 2.13,\n",
        "            \"momentum\": 0.9\n",
        "          },\n",
        "          # type of user selection sampling\n",
        "          \"active_user_selector\": {\"_base_\": \"base_uniformly_random_active_user_selector\"},\n",
        "        },\n",
        "        \"client\": {\n",
        "            # number of client's local epoch\n",
        "            \"epochs\": 1,\n",
        "            \"optimizer\": {\n",
        "                \"_base_\": \"base_optimizer_sgd\",\n",
        "                # client's local learning rate\n",
        "                \"lr\": 0.0138,\n",
        "                # client's local momentum\n",
        "                \"momentum\": 0,\n",
        "            },\n",
        "        },\n",
        "        # number of users per round for aggregation\n",
        "        \"users_per_round\": 5,\n",
        "        # total number of global epochs\n",
        "        # total #rounds = ceil(total_users / users_per_round) * epochs\n",
        "        \"epochs\": 1,\n",
        "        # frequentcy of reporting train metrics\n",
        "        \"train_metrics_reported_per_epoch\": 100,\n",
        "        # frequency of evaluation per epoch\n",
        "        \"eval_epoch_frequency\": 1,\n",
        "        \"do_eval\": True,\n",
        "        # should we report train metrics after global aggregation\n",
        "        \"report_train_metrics_after_aggregation\": True,\n",
        "    }\n",
        "}"
      ],
      "execution_count": 12,
      "outputs": []
    },
    {
      "cell_type": "markdown",
      "metadata": {
        "id": "O14fKL2UITit"
      },
      "source": [
        "We now define a function *run_cifar10_fl_training()* which runs a round of FL training, and takes as input the FL configuration. We can train under different compression techniques by appropriately changing the config as needed."
      ]
    },
    {
      "cell_type": "code",
      "metadata": {
        "id": "ym_M1skn4Ikh",
        "colab": {
          "base_uri": "https://localhost:8080/",
          "height": 171,
          "referenced_widgets": [
            "2b6c37b7c7d2442d91efe996d223295a",
            "c4fb53c08dda4f07b40e6301e2b6b10a",
            "11ef08622bb24c659eb1a95709e2a0d4",
            "ab1334f837b246fa8026667eee3ec76f",
            "744f07658010497a8003b87399f2fe5b",
            "33d0655d8907486897075ab6bf07c00e",
            "9d4665a8df7142438f931ad5d2445978",
            "87bc417347f9480f9e22de299da7c430",
            "7132302f1cb94fd586a4776d80a709f2",
            "7fbd003bfdb44eb7a857ee938e6a634f",
            "3bb258cc1a6541569095d92b808d8c5c"
          ]
        },
        "outputId": "af5ce2dc-09af-435c-d311-2d3345b7c125"
      },
      "source": [
        "from flsim.utils.example_utils import build_data_provider, MetricsReporter\n",
        "\n",
        "data_provider = build_data_provider(\n",
        "    local_batch_size=LOCAL_BATCH_SIZE,\n",
        "    examples_per_user=EXAMPLES_PER_USER,\n",
        "    image_size = IMAGE_SIZE,\n",
        ")\n",
        "\n",
        "from flsim.interfaces.metrics_reporter import Channel\n",
        "\n",
        "from hydra.utils import instantiate\n",
        "\n",
        "def run_cifar10_fl_training(json_config):\n",
        "  model = SimpleConvNet(in_channels=3, num_classes=10)\n",
        "  global_model = FLModel(model, device)\n",
        "\n",
        "  if cuda_enabled:\n",
        "      global_model.fl_cuda()\n",
        "\n",
        "  cfg = fl_config_from_json(json_config)\n",
        "  trainer_config = cfg.trainer\n",
        "  trainer = instantiate(trainer_config, model=global_model, cuda_enabled=cuda_enabled)\n",
        "\n",
        "  metrics_reporter = MetricsReporter([Channel.TENSORBOARD, Channel.STDOUT])\n",
        "\n",
        "  final_model, eval_score = trainer.train(\n",
        "      data_provider=data_provider,\n",
        "      metric_reporter=metrics_reporter,\n",
        "      num_total_users=data_provider.num_users(),\n",
        "      distributed_world_size=1\n",
        "  )"
      ],
      "execution_count": 13,
      "outputs": [
        {
          "output_type": "stream",
          "name": "stdout",
          "text": [
            "Downloading https://www.cs.toronto.edu/~kriz/cifar-10-python.tar.gz to ./cifar10/cifar-10-python.tar.gz\n"
          ]
        },
        {
          "output_type": "display_data",
          "data": {
            "application/vnd.jupyter.widget-view+json": {
              "model_id": "2b6c37b7c7d2442d91efe996d223295a",
              "version_minor": 0,
              "version_major": 2
            },
            "text/plain": [
              "  0%|          | 0/170498071 [00:00<?, ?it/s]"
            ]
          },
          "metadata": {}
        },
        {
          "output_type": "stream",
          "name": "stdout",
          "text": [
            "Extracting ./cifar10/cifar-10-python.tar.gz to ./cifar10\n",
            "Files already downloaded and verified\n"
          ]
        },
        {
          "output_type": "stream",
          "name": "stderr",
          "text": [
            "Creating FL User: 100user [00:18,  5.34user/s]\n",
            "Creating FL User: 20user [00:03,  5.27user/s]\n",
            "Creating FL User: 20user [00:03,  5.66user/s]"
          ]
        },
        {
          "output_type": "stream",
          "name": "stdout",
          "text": [
            "Clients in total: 100\n"
          ]
        },
        {
          "output_type": "stream",
          "name": "stderr",
          "text": [
            "\n"
          ]
        }
      ]
    },
    {
      "cell_type": "markdown",
      "metadata": {
        "id": "AjjOMMs9I5X4"
      },
      "source": [
        "Let us first train a vanilla setting where there is no client update compression, and no metrics reporting. "
      ]
    },
    {
      "cell_type": "code",
      "metadata": {
        "colab": {
          "base_uri": "https://localhost:8080/"
        },
        "id": "XJUqwP-ZJhH4",
        "outputId": "db538b60-37ae-4af7-a4c3-f1db1d0777db"
      },
      "source": [
        "run_cifar10_fl_training(json_config)"
      ],
      "execution_count": 14,
      "outputs": [
        {
          "output_type": "stream",
          "name": "stderr",
          "text": [
            "/usr/local/lib/python3.7/dist-packages/hydra/experimental/initialize.py:36: UserWarning: hydra.experimental.initialize() is no longer experimental. Use hydra.initialize()\n",
            "  message=\"hydra.experimental.initialize() is no longer experimental.\"\n",
            "/usr/local/lib/python3.7/dist-packages/hydra/experimental/compose.py:19: UserWarning: hydra.experimental.compose() is no longer experimental. Use hydra.compose()\n",
            "  message=\"hydra.experimental.compose() is no longer experimental.\"\n",
            "Round:   0%|          | 0/20 [00:00<?, ?round/s]"
          ]
        },
        {
          "output_type": "stream",
          "name": "stdout",
          "text": [
            "Train finished Global Round: 1\n",
            "(epoch = 1, round = 1, global round = 1), Loss/Training: 2.34424609541893\n",
            "(epoch = 1, round = 1, global round = 1), Accuracy/Training: 14.44\n",
            "reporting (epoch = 1, round = 1, global round = 1) for aggregation\n"
          ]
        },
        {
          "output_type": "stream",
          "name": "stderr",
          "text": [
            "\rRound:   5%|▌         | 1/20 [00:03<01:07,  3.55s/round]"
          ]
        },
        {
          "output_type": "stream",
          "name": "stdout",
          "text": [
            "(epoch = 1, round = 1, global round = 1), Loss/Aggregation: 2.319511131942272\n",
            "(epoch = 1, round = 1, global round = 1), Accuracy/Aggregation: 18.64\n",
            "Train finished Global Round: 2\n",
            "(epoch = 1, round = 2, global round = 2), Loss/Training: 2.1329794570803644\n",
            "(epoch = 1, round = 2, global round = 2), Accuracy/Training: 22.08\n",
            "reporting (epoch = 1, round = 2, global round = 2) for aggregation\n"
          ]
        },
        {
          "output_type": "stream",
          "name": "stderr",
          "text": [
            "\rRound:  10%|█         | 2/20 [00:04<00:37,  2.09s/round]"
          ]
        },
        {
          "output_type": "stream",
          "name": "stdout",
          "text": [
            "(epoch = 1, round = 2, global round = 2), Loss/Aggregation: 1.9354705780744552\n",
            "(epoch = 1, round = 2, global round = 2), Accuracy/Aggregation: 32.56\n",
            "Train finished Global Round: 3\n",
            "(epoch = 1, round = 3, global round = 3), Loss/Training: 1.96931853890419\n",
            "(epoch = 1, round = 3, global round = 3), Accuracy/Training: 29.68\n",
            "reporting (epoch = 1, round = 3, global round = 3) for aggregation\n"
          ]
        },
        {
          "output_type": "stream",
          "name": "stderr",
          "text": [
            "\rRound:  15%|█▌        | 3/20 [00:05<00:27,  1.62s/round]"
          ]
        },
        {
          "output_type": "stream",
          "name": "stdout",
          "text": [
            "(epoch = 1, round = 3, global round = 3), Loss/Aggregation: 2.0580434411764146\n",
            "(epoch = 1, round = 3, global round = 3), Accuracy/Aggregation: 27.84\n",
            "Train finished Global Round: 4\n",
            "(epoch = 1, round = 4, global round = 4), Loss/Training: 1.8649685278534889\n",
            "(epoch = 1, round = 4, global round = 4), Accuracy/Training: 33.32\n",
            "reporting (epoch = 1, round = 4, global round = 4) for aggregation\n"
          ]
        },
        {
          "output_type": "stream",
          "name": "stderr",
          "text": [
            "\rRound:  20%|██        | 4/20 [00:06<00:22,  1.41s/round]"
          ]
        },
        {
          "output_type": "stream",
          "name": "stdout",
          "text": [
            "(epoch = 1, round = 4, global round = 4), Loss/Aggregation: 1.7743277832865716\n",
            "(epoch = 1, round = 4, global round = 4), Accuracy/Aggregation: 37.64\n",
            "Train finished Global Round: 5\n",
            "(epoch = 1, round = 5, global round = 5), Loss/Training: 1.6988513886928558\n",
            "(epoch = 1, round = 5, global round = 5), Accuracy/Training: 38.4\n",
            "reporting (epoch = 1, round = 5, global round = 5) for aggregation\n"
          ]
        },
        {
          "output_type": "stream",
          "name": "stderr",
          "text": [
            "\rRound:  25%|██▌       | 5/20 [00:07<00:19,  1.29s/round]"
          ]
        },
        {
          "output_type": "stream",
          "name": "stdout",
          "text": [
            "(epoch = 1, round = 5, global round = 5), Loss/Aggregation: 1.8756386056542396\n",
            "(epoch = 1, round = 5, global round = 5), Accuracy/Aggregation: 31.76\n",
            "Train finished Global Round: 6\n",
            "(epoch = 1, round = 6, global round = 6), Loss/Training: 1.6975470989942552\n",
            "(epoch = 1, round = 6, global round = 6), Accuracy/Training: 39.04\n",
            "reporting (epoch = 1, round = 6, global round = 6) for aggregation\n"
          ]
        },
        {
          "output_type": "stream",
          "name": "stderr",
          "text": [
            "\rRound:  30%|███       | 6/20 [00:08<00:16,  1.21s/round]"
          ]
        },
        {
          "output_type": "stream",
          "name": "stdout",
          "text": [
            "(epoch = 1, round = 6, global round = 6), Loss/Aggregation: 1.6728261545300485\n",
            "(epoch = 1, round = 6, global round = 6), Accuracy/Aggregation: 39.72\n",
            "Train finished Global Round: 7\n",
            "(epoch = 1, round = 7, global round = 7), Loss/Training: 1.6013400241732598\n",
            "(epoch = 1, round = 7, global round = 7), Accuracy/Training: 42.28\n",
            "reporting (epoch = 1, round = 7, global round = 7) for aggregation\n"
          ]
        },
        {
          "output_type": "stream",
          "name": "stderr",
          "text": [
            "\rRound:  35%|███▌      | 7/20 [00:09<00:15,  1.17s/round]"
          ]
        },
        {
          "output_type": "stream",
          "name": "stdout",
          "text": [
            "(epoch = 1, round = 7, global round = 7), Loss/Aggregation: 1.611890372633934\n",
            "(epoch = 1, round = 7, global round = 7), Accuracy/Aggregation: 41.96\n",
            "Train finished Global Round: 8\n",
            "(epoch = 1, round = 8, global round = 8), Loss/Training: 1.5516564860939979\n",
            "(epoch = 1, round = 8, global round = 8), Accuracy/Training: 44.88\n",
            "reporting (epoch = 1, round = 8, global round = 8) for aggregation\n"
          ]
        },
        {
          "output_type": "stream",
          "name": "stderr",
          "text": [
            "\rRound:  40%|████      | 8/20 [00:11<00:13,  1.14s/round]"
          ]
        },
        {
          "output_type": "stream",
          "name": "stdout",
          "text": [
            "(epoch = 1, round = 8, global round = 8), Loss/Aggregation: 1.5715546026825904\n",
            "(epoch = 1, round = 8, global round = 8), Accuracy/Aggregation: 42.76\n",
            "Train finished Global Round: 9\n",
            "(epoch = 1, round = 9, global round = 9), Loss/Training: 1.529370553791523\n",
            "(epoch = 1, round = 9, global round = 9), Accuracy/Training: 44.72\n",
            "reporting (epoch = 1, round = 9, global round = 9) for aggregation\n"
          ]
        },
        {
          "output_type": "stream",
          "name": "stderr",
          "text": [
            "\rRound:  45%|████▌     | 9/20 [00:12<00:12,  1.12s/round]"
          ]
        },
        {
          "output_type": "stream",
          "name": "stdout",
          "text": [
            "(epoch = 1, round = 9, global round = 9), Loss/Aggregation: 1.4764470800757408\n",
            "(epoch = 1, round = 9, global round = 9), Accuracy/Aggregation: 47.76\n",
            "Train finished Global Round: 10\n",
            "(epoch = 1, round = 10, global round = 10), Loss/Training: 1.4754883736371993\n",
            "(epoch = 1, round = 10, global round = 10), Accuracy/Training: 47.84\n",
            "reporting (epoch = 1, round = 10, global round = 10) for aggregation\n"
          ]
        },
        {
          "output_type": "stream",
          "name": "stderr",
          "text": [
            "\rRound:  50%|█████     | 10/20 [00:13<00:10,  1.10s/round]"
          ]
        },
        {
          "output_type": "stream",
          "name": "stdout",
          "text": [
            "(epoch = 1, round = 10, global round = 10), Loss/Aggregation: 1.511390146613121\n",
            "(epoch = 1, round = 10, global round = 10), Accuracy/Aggregation: 46.6\n",
            "Train finished Global Round: 11\n",
            "(epoch = 1, round = 11, global round = 11), Loss/Training: 1.4313146874308587\n",
            "(epoch = 1, round = 11, global round = 11), Accuracy/Training: 48.32\n",
            "reporting (epoch = 1, round = 11, global round = 11) for aggregation\n"
          ]
        },
        {
          "output_type": "stream",
          "name": "stderr",
          "text": [
            "\rRound:  55%|█████▌    | 11/20 [00:14<00:09,  1.08s/round]"
          ]
        },
        {
          "output_type": "stream",
          "name": "stdout",
          "text": [
            "(epoch = 1, round = 11, global round = 11), Loss/Aggregation: 1.3529028281569482\n",
            "(epoch = 1, round = 11, global round = 11), Accuracy/Aggregation: 51.16\n",
            "Train finished Global Round: 12\n",
            "(epoch = 1, round = 12, global round = 12), Loss/Training: 1.4201569929718971\n",
            "(epoch = 1, round = 12, global round = 12), Accuracy/Training: 49.0\n",
            "reporting (epoch = 1, round = 12, global round = 12) for aggregation\n"
          ]
        },
        {
          "output_type": "stream",
          "name": "stderr",
          "text": [
            "\rRound:  60%|██████    | 12/20 [00:15<00:08,  1.08s/round]"
          ]
        },
        {
          "output_type": "stream",
          "name": "stdout",
          "text": [
            "(epoch = 1, round = 12, global round = 12), Loss/Aggregation: 1.4709742590785027\n",
            "(epoch = 1, round = 12, global round = 12), Accuracy/Aggregation: 46.72\n",
            "Train finished Global Round: 13\n",
            "(epoch = 1, round = 13, global round = 13), Loss/Training: 1.3839655384421348\n",
            "(epoch = 1, round = 13, global round = 13), Accuracy/Training: 50.4\n",
            "reporting (epoch = 1, round = 13, global round = 13) for aggregation\n"
          ]
        },
        {
          "output_type": "stream",
          "name": "stderr",
          "text": [
            "\rRound:  65%|██████▌   | 13/20 [00:16<00:07,  1.07s/round]"
          ]
        },
        {
          "output_type": "stream",
          "name": "stdout",
          "text": [
            "(epoch = 1, round = 13, global round = 13), Loss/Aggregation: 1.3047269247472286\n",
            "(epoch = 1, round = 13, global round = 13), Accuracy/Aggregation: 53.44\n",
            "Train finished Global Round: 14\n",
            "(epoch = 1, round = 14, global round = 14), Loss/Training: 1.3953825868666172\n",
            "(epoch = 1, round = 14, global round = 14), Accuracy/Training: 48.88\n",
            "reporting (epoch = 1, round = 14, global round = 14) for aggregation\n"
          ]
        },
        {
          "output_type": "stream",
          "name": "stderr",
          "text": [
            "\rRound:  70%|███████   | 14/20 [00:17<00:06,  1.07s/round]"
          ]
        },
        {
          "output_type": "stream",
          "name": "stdout",
          "text": [
            "(epoch = 1, round = 14, global round = 14), Loss/Aggregation: 1.3689130887389183\n",
            "(epoch = 1, round = 14, global round = 14), Accuracy/Aggregation: 48.8\n",
            "Train finished Global Round: 15\n",
            "(epoch = 1, round = 15, global round = 15), Loss/Training: 1.33113898858428\n",
            "(epoch = 1, round = 15, global round = 15), Accuracy/Training: 52.92\n",
            "reporting (epoch = 1, round = 15, global round = 15) for aggregation\n"
          ]
        },
        {
          "output_type": "stream",
          "name": "stderr",
          "text": [
            "\rRound:  75%|███████▌  | 15/20 [00:18<00:05,  1.07s/round]"
          ]
        },
        {
          "output_type": "stream",
          "name": "stdout",
          "text": [
            "(epoch = 1, round = 15, global round = 15), Loss/Aggregation: 1.3118251062929631\n",
            "(epoch = 1, round = 15, global round = 15), Accuracy/Aggregation: 53.96\n",
            "Train finished Global Round: 16\n",
            "(epoch = 1, round = 16, global round = 16), Loss/Training: 1.3438777819275856\n",
            "(epoch = 1, round = 16, global round = 16), Accuracy/Training: 53.16\n",
            "reporting (epoch = 1, round = 16, global round = 16) for aggregation\n"
          ]
        },
        {
          "output_type": "stream",
          "name": "stderr",
          "text": [
            "\rRound:  80%|████████  | 16/20 [00:19<00:04,  1.07s/round]"
          ]
        },
        {
          "output_type": "stream",
          "name": "stdout",
          "text": [
            "(epoch = 1, round = 16, global round = 16), Loss/Aggregation: 1.3012353576719762\n",
            "(epoch = 1, round = 16, global round = 16), Accuracy/Aggregation: 54.16\n",
            "Train finished Global Round: 17\n",
            "(epoch = 1, round = 17, global round = 17), Loss/Training: 1.352063601464033\n",
            "(epoch = 1, round = 17, global round = 17), Accuracy/Training: 52.52\n",
            "reporting (epoch = 1, round = 17, global round = 17) for aggregation\n"
          ]
        },
        {
          "output_type": "stream",
          "name": "stderr",
          "text": [
            "\rRound:  85%|████████▌ | 17/20 [00:20<00:03,  1.07s/round]"
          ]
        },
        {
          "output_type": "stream",
          "name": "stdout",
          "text": [
            "(epoch = 1, round = 17, global round = 17), Loss/Aggregation: 1.355689600855112\n",
            "(epoch = 1, round = 17, global round = 17), Accuracy/Aggregation: 52.68\n",
            "Train finished Global Round: 18\n",
            "(epoch = 1, round = 18, global round = 18), Loss/Training: 1.336708389222622\n",
            "(epoch = 1, round = 18, global round = 18), Accuracy/Training: 52.72\n",
            "reporting (epoch = 1, round = 18, global round = 18) for aggregation\n"
          ]
        },
        {
          "output_type": "stream",
          "name": "stderr",
          "text": [
            "\rRound:  90%|█████████ | 18/20 [00:21<00:02,  1.07s/round]"
          ]
        },
        {
          "output_type": "stream",
          "name": "stdout",
          "text": [
            "(epoch = 1, round = 18, global round = 18), Loss/Aggregation: 1.2862283729016781\n",
            "(epoch = 1, round = 18, global round = 18), Accuracy/Aggregation: 55.08\n",
            "Train finished Global Round: 19\n",
            "(epoch = 1, round = 19, global round = 19), Loss/Training: 1.240328671783209\n",
            "(epoch = 1, round = 19, global round = 19), Accuracy/Training: 55.84\n",
            "reporting (epoch = 1, round = 19, global round = 19) for aggregation\n"
          ]
        },
        {
          "output_type": "stream",
          "name": "stderr",
          "text": [
            "\rRound:  95%|█████████▌| 19/20 [00:22<00:01,  1.06s/round]"
          ]
        },
        {
          "output_type": "stream",
          "name": "stdout",
          "text": [
            "(epoch = 1, round = 19, global round = 19), Loss/Aggregation: 1.329212562739849\n",
            "(epoch = 1, round = 19, global round = 19), Accuracy/Aggregation: 52.32\n",
            "Train finished Global Round: 20\n",
            "(epoch = 1, round = 20, global round = 20), Loss/Training: 1.26285205706954\n",
            "(epoch = 1, round = 20, global round = 20), Accuracy/Training: 55.12\n",
            "reporting (epoch = 1, round = 20, global round = 20) for aggregation\n",
            "(epoch = 1, round = 20, global round = 20), Loss/Aggregation: 1.2024490401148795\n",
            "(epoch = 1, round = 20, global round = 20), Accuracy/Aggregation: 56.56\n",
            "Running (epoch = 1, round = 20, global round = 20) for Eval\n",
            "(epoch = 1, round = 20, global round = 20), Loss/Eval: 1.263361149840057\n",
            "(epoch = 1, round = 20, global round = 20), Accuracy/Eval: 55.12\n"
          ]
        },
        {
          "output_type": "stream",
          "name": "stderr",
          "text": [
            "Round:  95%|█████████▌| 19/20 [00:24<00:01,  1.31s/round]\n",
            "Epoch:   0%|          | 0/1 [00:24<?, ?epoch/s]\n"
          ]
        }
      ]
    },
    {
      "cell_type": "markdown",
      "metadata": {
        "id": "9iAcD5cEL7SL"
      },
      "source": [
        "## Introduction to communication metrics reporting in FL Simulator"
      ]
    },
    {
      "cell_type": "markdown",
      "metadata": {
        "id": "IYvECjbjSBCU"
      },
      "source": [
        "We support tracking of communication metrics through the flag *report_communication_metrics*, and for every round report the mean number of bytes transmitted both for uploads (client to server communication), as well as downloads (server to client communication). So far our focus is mainly on optimizing for upload efficiency as that uploads are generally slower. Let us modify the JSON config above to add a *channel* key to specify channel subconfigs. This controls selection of the compression method, as well as metrics tracking. When *report_communication_metrics* is enabled, the mean upload and download bytes (averaged across participating clients in a round) are reported. Let us consider the simplest compression supported in the simulator, namely the [half-precision channel](https://github.com/facebookresearch/FLSim/blob/main/channels/half_precision_channel.py). Here, client updates (which by default are 32-bit floating points) are compressed to 16-bit. We can specify the compression method with the *_base_* key here in the sub-config."
      ]
    },
    {
      "cell_type": "code",
      "metadata": {
        "id": "olsvHhOlML2K",
        "colab": {
          "base_uri": "https://localhost:8080/"
        },
        "outputId": "a6af8fd0-8d0c-40a5-c98c-8fc27ff7d553"
      },
      "source": [
        "json_config[\"trainer\"][\"channel\"] = {\n",
        "  \"report_communication_metrics\": True,\n",
        "  \"_base_\": \"base_half_precision_channel\"\n",
        "}\n",
        "cfg = fl_config_from_json(json_config)\n"
      ],
      "execution_count": 15,
      "outputs": [
        {
          "output_type": "stream",
          "name": "stderr",
          "text": [
            "/usr/local/lib/python3.7/dist-packages/hydra/experimental/initialize.py:36: UserWarning: hydra.experimental.initialize() is no longer experimental. Use hydra.initialize()\n",
            "  message=\"hydra.experimental.initialize() is no longer experimental.\"\n",
            "/usr/local/lib/python3.7/dist-packages/hydra/experimental/compose.py:19: UserWarning: hydra.experimental.compose() is no longer experimental. Use hydra.compose()\n",
            "  message=\"hydra.experimental.compose() is no longer experimental.\"\n"
          ]
        }
      ]
    },
    {
      "cell_type": "markdown",
      "metadata": {
        "id": "hDfi7VB5zoBP"
      },
      "source": [
        "After defining the JSON config and converting to an FL config, we instantiate the trainer and start training with half-precision compression. While the server sends full-precision models to clients, the client uploads consume half the number of bytes as expected."
      ]
    },
    {
      "cell_type": "code",
      "metadata": {
        "colab": {
          "base_uri": "https://localhost:8080/"
        },
        "id": "QvW19mmYJc5j",
        "outputId": "c162473b-69fe-4444-b0d6-bf2de1873ca8"
      },
      "source": [
        "run_cifar10_fl_training(json_config)"
      ],
      "execution_count": 16,
      "outputs": [
        {
          "output_type": "stream",
          "name": "stderr",
          "text": [
            "/usr/local/lib/python3.7/dist-packages/hydra/experimental/initialize.py:36: UserWarning: hydra.experimental.initialize() is no longer experimental. Use hydra.initialize()\n",
            "  message=\"hydra.experimental.initialize() is no longer experimental.\"\n",
            "/usr/local/lib/python3.7/dist-packages/hydra/experimental/compose.py:19: UserWarning: hydra.experimental.compose() is no longer experimental. Use hydra.compose()\n",
            "  message=\"hydra.experimental.compose() is no longer experimental.\"\n",
            "Round:   0%|          | 0/20 [00:00<?, ?round/s]"
          ]
        },
        {
          "output_type": "stream",
          "name": "stdout",
          "text": [
            "Train finished Global Round: 1\n",
            "(epoch = 1, round = 1, global round = 1), Loss/Training: 2.3217339515686035\n",
            "(epoch = 1, round = 1, global round = 1), Accuracy/Training: 13.08\n",
            "reporting (epoch = 1, round = 1, global round = 1) for aggregation\n"
          ]
        },
        {
          "output_type": "stream",
          "name": "stderr",
          "text": [
            "\rRound:   5%|▌         | 1/20 [00:01<00:20,  1.09s/round]"
          ]
        },
        {
          "output_type": "stream",
          "name": "stdout",
          "text": [
            "(epoch = 1, round = 1, global round = 1), Loss/Aggregation: 2.254027526080608\n",
            "(epoch = 1, round = 1, global round = 1), Accuracy/Aggregation: 21.64\n",
            "(epoch = 1, round = 1, global round = 1), Client to Server Bytes Sent/Training: 63188.0\n",
            "(epoch = 1, round = 1, global round = 1), Server to Client Bytes Sent/Training: 126376.0\n",
            "Train finished Global Round: 2\n",
            "(epoch = 1, round = 2, global round = 2), Loss/Training: 2.1212334811687468\n",
            "(epoch = 1, round = 2, global round = 2), Accuracy/Training: 25.16\n",
            "reporting (epoch = 1, round = 2, global round = 2) for aggregation\n"
          ]
        },
        {
          "output_type": "stream",
          "name": "stderr",
          "text": [
            "\rRound:  10%|█         | 2/20 [00:02<00:19,  1.10s/round]"
          ]
        },
        {
          "output_type": "stream",
          "name": "stdout",
          "text": [
            "(epoch = 1, round = 2, global round = 2), Loss/Aggregation: 1.9335447311401368\n",
            "(epoch = 1, round = 2, global round = 2), Accuracy/Aggregation: 30.8\n",
            "(epoch = 1, round = 2, global round = 2), Client to Server Bytes Sent/Training: 63188.0\n",
            "(epoch = 1, round = 2, global round = 2), Server to Client Bytes Sent/Training: 126376.0\n",
            "Train finished Global Round: 3\n",
            "(epoch = 1, round = 3, global round = 3), Loss/Training: 1.9618733495473861\n",
            "(epoch = 1, round = 3, global round = 3), Accuracy/Training: 30.08\n",
            "reporting (epoch = 1, round = 3, global round = 3) for aggregation\n"
          ]
        },
        {
          "output_type": "stream",
          "name": "stderr",
          "text": [
            "\rRound:  15%|█▌        | 3/20 [00:03<00:18,  1.10s/round]"
          ]
        },
        {
          "output_type": "stream",
          "name": "stdout",
          "text": [
            "(epoch = 1, round = 3, global round = 3), Loss/Aggregation: 1.982414424419403\n",
            "(epoch = 1, round = 3, global round = 3), Accuracy/Aggregation: 30.72\n",
            "(epoch = 1, round = 3, global round = 3), Client to Server Bytes Sent/Training: 63188.0\n",
            "(epoch = 1, round = 3, global round = 3), Server to Client Bytes Sent/Training: 126376.0\n",
            "Train finished Global Round: 4\n",
            "(epoch = 1, round = 4, global round = 4), Loss/Training: 1.8915415406227112\n",
            "(epoch = 1, round = 4, global round = 4), Accuracy/Training: 31.84\n",
            "reporting (epoch = 1, round = 4, global round = 4) for aggregation\n"
          ]
        },
        {
          "output_type": "stream",
          "name": "stderr",
          "text": [
            "\rRound:  20%|██        | 4/20 [00:04<00:17,  1.09s/round]"
          ]
        },
        {
          "output_type": "stream",
          "name": "stdout",
          "text": [
            "(epoch = 1, round = 4, global round = 4), Loss/Aggregation: 1.7642721712589264\n",
            "(epoch = 1, round = 4, global round = 4), Accuracy/Aggregation: 38.68\n",
            "(epoch = 1, round = 4, global round = 4), Client to Server Bytes Sent/Training: 63188.0\n",
            "(epoch = 1, round = 4, global round = 4), Server to Client Bytes Sent/Training: 126376.0\n",
            "Train finished Global Round: 5\n",
            "(epoch = 1, round = 5, global round = 5), Loss/Training: 1.7638605296611787\n",
            "(epoch = 1, round = 5, global round = 5), Accuracy/Training: 36.76\n",
            "reporting (epoch = 1, round = 5, global round = 5) for aggregation\n"
          ]
        },
        {
          "output_type": "stream",
          "name": "stderr",
          "text": [
            "\rRound:  25%|██▌       | 5/20 [00:05<00:16,  1.09s/round]"
          ]
        },
        {
          "output_type": "stream",
          "name": "stdout",
          "text": [
            "(epoch = 1, round = 5, global round = 5), Loss/Aggregation: 1.744506348669529\n",
            "(epoch = 1, round = 5, global round = 5), Accuracy/Aggregation: 35.92\n",
            "(epoch = 1, round = 5, global round = 5), Client to Server Bytes Sent/Training: 63188.0\n",
            "(epoch = 1, round = 5, global round = 5), Server to Client Bytes Sent/Training: 126376.0\n",
            "Train finished Global Round: 6\n",
            "(epoch = 1, round = 6, global round = 6), Loss/Training: 1.667595347762108\n",
            "(epoch = 1, round = 6, global round = 6), Accuracy/Training: 41.04\n",
            "reporting (epoch = 1, round = 6, global round = 6) for aggregation\n"
          ]
        },
        {
          "output_type": "stream",
          "name": "stderr",
          "text": [
            "\rRound:  30%|███       | 6/20 [00:06<00:15,  1.09s/round]"
          ]
        },
        {
          "output_type": "stream",
          "name": "stdout",
          "text": [
            "(epoch = 1, round = 6, global round = 6), Loss/Aggregation: 1.562100276350975\n",
            "(epoch = 1, round = 6, global round = 6), Accuracy/Aggregation: 43.96\n",
            "(epoch = 1, round = 6, global round = 6), Client to Server Bytes Sent/Training: 63188.0\n",
            "(epoch = 1, round = 6, global round = 6), Server to Client Bytes Sent/Training: 126376.0\n",
            "Train finished Global Round: 7\n",
            "(epoch = 1, round = 7, global round = 7), Loss/Training: 1.590224713087082\n",
            "(epoch = 1, round = 7, global round = 7), Accuracy/Training: 42.44\n",
            "reporting (epoch = 1, round = 7, global round = 7) for aggregation\n"
          ]
        },
        {
          "output_type": "stream",
          "name": "stderr",
          "text": [
            "\rRound:  35%|███▌      | 7/20 [00:07<00:14,  1.09s/round]"
          ]
        },
        {
          "output_type": "stream",
          "name": "stdout",
          "text": [
            "(epoch = 1, round = 7, global round = 7), Loss/Aggregation: 1.6365112751722335\n",
            "(epoch = 1, round = 7, global round = 7), Accuracy/Aggregation: 42.32\n",
            "(epoch = 1, round = 7, global round = 7), Client to Server Bytes Sent/Training: 63188.0\n",
            "(epoch = 1, round = 7, global round = 7), Server to Client Bytes Sent/Training: 126376.0\n",
            "Train finished Global Round: 8\n",
            "(epoch = 1, round = 8, global round = 8), Loss/Training: 1.566900436580181\n",
            "(epoch = 1, round = 8, global round = 8), Accuracy/Training: 43.4\n",
            "reporting (epoch = 1, round = 8, global round = 8) for aggregation\n"
          ]
        },
        {
          "output_type": "stream",
          "name": "stderr",
          "text": [
            "\rRound:  40%|████      | 8/20 [00:08<00:13,  1.09s/round]"
          ]
        },
        {
          "output_type": "stream",
          "name": "stdout",
          "text": [
            "(epoch = 1, round = 8, global round = 8), Loss/Aggregation: 1.6289724193513393\n",
            "(epoch = 1, round = 8, global round = 8), Accuracy/Aggregation: 43.24\n",
            "(epoch = 1, round = 8, global round = 8), Client to Server Bytes Sent/Training: 63188.0\n",
            "(epoch = 1, round = 8, global round = 8), Server to Client Bytes Sent/Training: 126376.0\n",
            "Train finished Global Round: 9\n",
            "(epoch = 1, round = 9, global round = 9), Loss/Training: 1.5592622563242913\n",
            "(epoch = 1, round = 9, global round = 9), Accuracy/Training: 44.52\n",
            "reporting (epoch = 1, round = 9, global round = 9) for aggregation\n"
          ]
        },
        {
          "output_type": "stream",
          "name": "stderr",
          "text": [
            "\rRound:  45%|████▌     | 9/20 [00:09<00:11,  1.08s/round]"
          ]
        },
        {
          "output_type": "stream",
          "name": "stdout",
          "text": [
            "(epoch = 1, round = 9, global round = 9), Loss/Aggregation: 1.5837139829993248\n",
            "(epoch = 1, round = 9, global round = 9), Accuracy/Aggregation: 41.24\n",
            "(epoch = 1, round = 9, global round = 9), Client to Server Bytes Sent/Training: 63188.0\n",
            "(epoch = 1, round = 9, global round = 9), Server to Client Bytes Sent/Training: 126376.0\n",
            "Train finished Global Round: 10\n",
            "(epoch = 1, round = 10, global round = 10), Loss/Training: 1.5279097951948644\n",
            "(epoch = 1, round = 10, global round = 10), Accuracy/Training: 44.64\n",
            "reporting (epoch = 1, round = 10, global round = 10) for aggregation\n"
          ]
        },
        {
          "output_type": "stream",
          "name": "stderr",
          "text": [
            "\rRound:  50%|█████     | 10/20 [00:10<00:10,  1.08s/round]"
          ]
        },
        {
          "output_type": "stream",
          "name": "stdout",
          "text": [
            "(epoch = 1, round = 10, global round = 10), Loss/Aggregation: 1.5609899565577507\n",
            "(epoch = 1, round = 10, global round = 10), Accuracy/Aggregation: 42.56\n",
            "(epoch = 1, round = 10, global round = 10), Client to Server Bytes Sent/Training: 63188.0\n",
            "(epoch = 1, round = 10, global round = 10), Server to Client Bytes Sent/Training: 126376.0\n",
            "Train finished Global Round: 11\n",
            "(epoch = 1, round = 11, global round = 11), Loss/Training: 1.4883445233106614\n",
            "(epoch = 1, round = 11, global round = 11), Accuracy/Training: 46.32\n",
            "reporting (epoch = 1, round = 11, global round = 11) for aggregation\n"
          ]
        },
        {
          "output_type": "stream",
          "name": "stderr",
          "text": [
            "\rRound:  55%|█████▌    | 11/20 [00:11<00:09,  1.08s/round]"
          ]
        },
        {
          "output_type": "stream",
          "name": "stdout",
          "text": [
            "(epoch = 1, round = 11, global round = 11), Loss/Aggregation: 1.4968171253800393\n",
            "(epoch = 1, round = 11, global round = 11), Accuracy/Aggregation: 47.8\n",
            "(epoch = 1, round = 11, global round = 11), Client to Server Bytes Sent/Training: 63188.0\n",
            "(epoch = 1, round = 11, global round = 11), Server to Client Bytes Sent/Training: 126376.0\n",
            "Train finished Global Round: 12\n",
            "(epoch = 1, round = 12, global round = 12), Loss/Training: 1.474238006770611\n",
            "(epoch = 1, round = 12, global round = 12), Accuracy/Training: 46.56\n",
            "reporting (epoch = 1, round = 12, global round = 12) for aggregation\n"
          ]
        },
        {
          "output_type": "stream",
          "name": "stderr",
          "text": [
            "\rRound:  60%|██████    | 12/20 [00:13<00:08,  1.09s/round]"
          ]
        },
        {
          "output_type": "stream",
          "name": "stdout",
          "text": [
            "(epoch = 1, round = 12, global round = 12), Loss/Aggregation: 1.524179071933031\n",
            "(epoch = 1, round = 12, global round = 12), Accuracy/Aggregation: 45.52\n",
            "(epoch = 1, round = 12, global round = 12), Client to Server Bytes Sent/Training: 63188.0\n",
            "(epoch = 1, round = 12, global round = 12), Server to Client Bytes Sent/Training: 126376.0\n",
            "Train finished Global Round: 13\n",
            "(epoch = 1, round = 13, global round = 13), Loss/Training: 1.4337391674518585\n",
            "(epoch = 1, round = 13, global round = 13), Accuracy/Training: 49.72\n",
            "reporting (epoch = 1, round = 13, global round = 13) for aggregation\n"
          ]
        },
        {
          "output_type": "stream",
          "name": "stderr",
          "text": [
            "\rRound:  65%|██████▌   | 13/20 [00:14<00:07,  1.09s/round]"
          ]
        },
        {
          "output_type": "stream",
          "name": "stdout",
          "text": [
            "(epoch = 1, round = 13, global round = 13), Loss/Aggregation: 1.4416092082858085\n",
            "(epoch = 1, round = 13, global round = 13), Accuracy/Aggregation: 47.2\n",
            "(epoch = 1, round = 13, global round = 13), Client to Server Bytes Sent/Training: 63188.0\n",
            "(epoch = 1, round = 13, global round = 13), Server to Client Bytes Sent/Training: 126376.0\n",
            "Train finished Global Round: 14\n",
            "(epoch = 1, round = 14, global round = 14), Loss/Training: 1.3988243244588374\n",
            "(epoch = 1, round = 14, global round = 14), Accuracy/Training: 50.56\n",
            "reporting (epoch = 1, round = 14, global round = 14) for aggregation\n"
          ]
        },
        {
          "output_type": "stream",
          "name": "stderr",
          "text": [
            "\rRound:  70%|███████   | 14/20 [00:15<00:06,  1.09s/round]"
          ]
        },
        {
          "output_type": "stream",
          "name": "stdout",
          "text": [
            "(epoch = 1, round = 14, global round = 14), Loss/Aggregation: 1.4088898077607155\n",
            "(epoch = 1, round = 14, global round = 14), Accuracy/Aggregation: 49.56\n",
            "(epoch = 1, round = 14, global round = 14), Client to Server Bytes Sent/Training: 63188.0\n",
            "(epoch = 1, round = 14, global round = 14), Server to Client Bytes Sent/Training: 126376.0\n",
            "Train finished Global Round: 15\n",
            "(epoch = 1, round = 15, global round = 15), Loss/Training: 1.3806882955133915\n",
            "(epoch = 1, round = 15, global round = 15), Accuracy/Training: 50.96\n",
            "reporting (epoch = 1, round = 15, global round = 15) for aggregation\n"
          ]
        },
        {
          "output_type": "stream",
          "name": "stderr",
          "text": [
            "\rRound:  75%|███████▌  | 15/20 [00:16<00:05,  1.09s/round]"
          ]
        },
        {
          "output_type": "stream",
          "name": "stdout",
          "text": [
            "(epoch = 1, round = 15, global round = 15), Loss/Aggregation: 1.3888443470001222\n",
            "(epoch = 1, round = 15, global round = 15), Accuracy/Aggregation: 49.88\n",
            "(epoch = 1, round = 15, global round = 15), Client to Server Bytes Sent/Training: 63188.0\n",
            "(epoch = 1, round = 15, global round = 15), Server to Client Bytes Sent/Training: 126376.0\n",
            "Train finished Global Round: 16\n",
            "(epoch = 1, round = 16, global round = 16), Loss/Training: 1.306223514676094\n",
            "(epoch = 1, round = 16, global round = 16), Accuracy/Training: 53.24\n",
            "reporting (epoch = 1, round = 16, global round = 16) for aggregation\n"
          ]
        },
        {
          "output_type": "stream",
          "name": "stderr",
          "text": [
            "\rRound:  80%|████████  | 16/20 [00:17<00:04,  1.09s/round]"
          ]
        },
        {
          "output_type": "stream",
          "name": "stdout",
          "text": [
            "(epoch = 1, round = 16, global round = 16), Loss/Aggregation: 1.3538765870034695\n",
            "(epoch = 1, round = 16, global round = 16), Accuracy/Aggregation: 51.08\n",
            "(epoch = 1, round = 16, global round = 16), Client to Server Bytes Sent/Training: 63188.0\n",
            "(epoch = 1, round = 16, global round = 16), Server to Client Bytes Sent/Training: 126376.0\n",
            "Train finished Global Round: 17\n",
            "(epoch = 1, round = 17, global round = 17), Loss/Training: 1.3182869233191012\n",
            "(epoch = 1, round = 17, global round = 17), Accuracy/Training: 53.16\n",
            "reporting (epoch = 1, round = 17, global round = 17) for aggregation\n"
          ]
        },
        {
          "output_type": "stream",
          "name": "stderr",
          "text": [
            "\rRound:  85%|████████▌ | 17/20 [00:18<00:03,  1.09s/round]"
          ]
        },
        {
          "output_type": "stream",
          "name": "stdout",
          "text": [
            "(epoch = 1, round = 17, global round = 17), Loss/Aggregation: 1.3241515748202801\n",
            "(epoch = 1, round = 17, global round = 17), Accuracy/Aggregation: 52.2\n",
            "(epoch = 1, round = 17, global round = 17), Client to Server Bytes Sent/Training: 63188.0\n",
            "(epoch = 1, round = 17, global round = 17), Server to Client Bytes Sent/Training: 126376.0\n",
            "Train finished Global Round: 18\n",
            "(epoch = 1, round = 18, global round = 18), Loss/Training: 1.3016676962375642\n",
            "(epoch = 1, round = 18, global round = 18), Accuracy/Training: 53.6\n",
            "reporting (epoch = 1, round = 18, global round = 18) for aggregation\n"
          ]
        },
        {
          "output_type": "stream",
          "name": "stderr",
          "text": [
            "\rRound:  90%|█████████ | 18/20 [00:19<00:02,  1.08s/round]"
          ]
        },
        {
          "output_type": "stream",
          "name": "stdout",
          "text": [
            "(epoch = 1, round = 18, global round = 18), Loss/Aggregation: 1.339336696267128\n",
            "(epoch = 1, round = 18, global round = 18), Accuracy/Aggregation: 51.72\n",
            "(epoch = 1, round = 18, global round = 18), Client to Server Bytes Sent/Training: 63188.0\n",
            "(epoch = 1, round = 18, global round = 18), Server to Client Bytes Sent/Training: 126376.0\n",
            "Train finished Global Round: 19\n",
            "(epoch = 1, round = 19, global round = 19), Loss/Training: 1.2747029773890972\n",
            "(epoch = 1, round = 19, global round = 19), Accuracy/Training: 54.92\n",
            "reporting (epoch = 1, round = 19, global round = 19) for aggregation\n"
          ]
        },
        {
          "output_type": "stream",
          "name": "stderr",
          "text": [
            "\rRound:  95%|█████████▌| 19/20 [00:20<00:01,  1.08s/round]"
          ]
        },
        {
          "output_type": "stream",
          "name": "stdout",
          "text": [
            "(epoch = 1, round = 19, global round = 19), Loss/Aggregation: 1.3354713223874568\n",
            "(epoch = 1, round = 19, global round = 19), Accuracy/Aggregation: 51.88\n",
            "(epoch = 1, round = 19, global round = 19), Client to Server Bytes Sent/Training: 63188.0\n",
            "(epoch = 1, round = 19, global round = 19), Server to Client Bytes Sent/Training: 126376.0\n",
            "Train finished Global Round: 20\n",
            "(epoch = 1, round = 20, global round = 20), Loss/Training: 1.3052193865180015\n",
            "(epoch = 1, round = 20, global round = 20), Accuracy/Training: 53.16\n",
            "reporting (epoch = 1, round = 20, global round = 20) for aggregation\n",
            "(epoch = 1, round = 20, global round = 20), Loss/Aggregation: 1.2794485621154308\n",
            "(epoch = 1, round = 20, global round = 20), Accuracy/Aggregation: 54.64\n",
            "(epoch = 1, round = 20, global round = 20), Client to Server Bytes Sent/Training: 63188.0\n",
            "(epoch = 1, round = 20, global round = 20), Server to Client Bytes Sent/Training: 126376.0\n",
            "Running (epoch = 1, round = 20, global round = 20) for Eval\n",
            "(epoch = 1, round = 20, global round = 20), Loss/Eval: 1.3612296309322118\n",
            "(epoch = 1, round = 20, global round = 20), Accuracy/Eval: 51.43\n"
          ]
        },
        {
          "output_type": "stream",
          "name": "stderr",
          "text": [
            "Round:  95%|█████████▌| 19/20 [00:22<00:01,  1.20s/round]\n",
            "Epoch:   0%|          | 0/1 [00:22<?, ?epoch/s]\n"
          ]
        }
      ]
    },
    {
      "cell_type": "markdown",
      "metadata": {
        "id": "de1du6jAIhgR"
      },
      "source": [
        "We now look at the scalar quantization channel, which quantizes tensors in ecah client update to between 1 and 8 bits. The channel supports both *per-tensor quantization* and *per-channel quantization*. Let us consider the former which is the simplest case, where each tensor shares the same zero-point and scale parameters. The channel configuration can be now modified to select this channel, with its associated per-tensor quantization flag and number of bits (*n_bits*) parameter."
      ]
    },
    {
      "cell_type": "code",
      "metadata": {
        "id": "JyZipQoa4ePa",
        "colab": {
          "base_uri": "https://localhost:8080/"
        },
        "outputId": "8f4a0a5e-23a0-4d2b-f7c1-a6c3af99fbac"
      },
      "source": [
        "json_config[\"trainer\"][\"channel\"] = {\n",
        "  \"report_communication_metrics\": True,\n",
        "  \"_base_\": \"base_scalar_quantization_channel\",\n",
        "  \"n_bits\": 3,\n",
        "  \"quantize_per_tensor\": True\n",
        "}\n",
        "\n",
        "run_cifar10_fl_training(json_config)"
      ],
      "execution_count": 17,
      "outputs": [
        {
          "output_type": "stream",
          "name": "stderr",
          "text": [
            "/usr/local/lib/python3.7/dist-packages/hydra/experimental/initialize.py:36: UserWarning: hydra.experimental.initialize() is no longer experimental. Use hydra.initialize()\n",
            "  message=\"hydra.experimental.initialize() is no longer experimental.\"\n",
            "/usr/local/lib/python3.7/dist-packages/hydra/experimental/compose.py:19: UserWarning: hydra.experimental.compose() is no longer experimental. Use hydra.compose()\n",
            "  message=\"hydra.experimental.compose() is no longer experimental.\"\n",
            "Round:   0%|          | 0/20 [00:00<?, ?round/s]"
          ]
        },
        {
          "output_type": "stream",
          "name": "stdout",
          "text": [
            "Train finished Global Round: 1\n",
            "(epoch = 1, round = 1, global round = 1), Loss/Training: 2.3254137188196182\n",
            "(epoch = 1, round = 1, global round = 1), Accuracy/Training: 13.6\n",
            "reporting (epoch = 1, round = 1, global round = 1) for aggregation\n"
          ]
        },
        {
          "output_type": "stream",
          "name": "stderr",
          "text": [
            "\rRound:   5%|▌         | 1/20 [00:01<00:21,  1.13s/round]"
          ]
        },
        {
          "output_type": "stream",
          "name": "stdout",
          "text": [
            "(epoch = 1, round = 1, global round = 1), Loss/Aggregation: 2.3311036705970762\n",
            "(epoch = 1, round = 1, global round = 1), Accuracy/Aggregation: 18.32\n",
            "(epoch = 1, round = 1, global round = 1), Client to Server Bytes Sent/Training: 12640.0\n",
            "(epoch = 1, round = 1, global round = 1), Server to Client Bytes Sent/Training: 126376.0\n",
            "Train finished Global Round: 2\n",
            "(epoch = 1, round = 2, global round = 2), Loss/Training: 2.134718155860901\n",
            "(epoch = 1, round = 2, global round = 2), Accuracy/Training: 22.72\n",
            "reporting (epoch = 1, round = 2, global round = 2) for aggregation\n"
          ]
        },
        {
          "output_type": "stream",
          "name": "stderr",
          "text": [
            "\rRound:  10%|█         | 2/20 [00:02<00:19,  1.11s/round]"
          ]
        },
        {
          "output_type": "stream",
          "name": "stdout",
          "text": [
            "(epoch = 1, round = 2, global round = 2), Loss/Aggregation: 1.9571393996477127\n",
            "(epoch = 1, round = 2, global round = 2), Accuracy/Aggregation: 29.84\n",
            "(epoch = 1, round = 2, global round = 2), Client to Server Bytes Sent/Training: 12640.0\n",
            "(epoch = 1, round = 2, global round = 2), Server to Client Bytes Sent/Training: 126376.0\n",
            "Train finished Global Round: 3\n",
            "(epoch = 1, round = 3, global round = 3), Loss/Training: 2.0043862372636796\n",
            "(epoch = 1, round = 3, global round = 3), Accuracy/Training: 27.92\n",
            "reporting (epoch = 1, round = 3, global round = 3) for aggregation\n"
          ]
        },
        {
          "output_type": "stream",
          "name": "stderr",
          "text": [
            "\rRound:  15%|█▌        | 3/20 [00:03<00:18,  1.10s/round]"
          ]
        },
        {
          "output_type": "stream",
          "name": "stdout",
          "text": [
            "(epoch = 1, round = 3, global round = 3), Loss/Aggregation: 2.0020494386553764\n",
            "(epoch = 1, round = 3, global round = 3), Accuracy/Aggregation: 26.64\n",
            "(epoch = 1, round = 3, global round = 3), Client to Server Bytes Sent/Training: 12640.0\n",
            "(epoch = 1, round = 3, global round = 3), Server to Client Bytes Sent/Training: 126376.0\n",
            "Train finished Global Round: 4\n",
            "(epoch = 1, round = 4, global round = 4), Loss/Training: 1.8581591188907622\n",
            "(epoch = 1, round = 4, global round = 4), Accuracy/Training: 33.32\n",
            "reporting (epoch = 1, round = 4, global round = 4) for aggregation\n"
          ]
        },
        {
          "output_type": "stream",
          "name": "stderr",
          "text": [
            "\rRound:  20%|██        | 4/20 [00:04<00:18,  1.17s/round]"
          ]
        },
        {
          "output_type": "stream",
          "name": "stdout",
          "text": [
            "(epoch = 1, round = 4, global round = 4), Loss/Aggregation: 1.725540392100811\n",
            "(epoch = 1, round = 4, global round = 4), Accuracy/Aggregation: 39.96\n",
            "(epoch = 1, round = 4, global round = 4), Client to Server Bytes Sent/Training: 12640.0\n",
            "(epoch = 1, round = 4, global round = 4), Server to Client Bytes Sent/Training: 126376.0\n",
            "Train finished Global Round: 5\n",
            "(epoch = 1, round = 5, global round = 5), Loss/Training: 1.741852656006813\n",
            "(epoch = 1, round = 5, global round = 5), Accuracy/Training: 37.64\n",
            "reporting (epoch = 1, round = 5, global round = 5) for aggregation\n"
          ]
        },
        {
          "output_type": "stream",
          "name": "stderr",
          "text": [
            "\rRound:  25%|██▌       | 5/20 [00:05<00:17,  1.14s/round]"
          ]
        },
        {
          "output_type": "stream",
          "name": "stdout",
          "text": [
            "(epoch = 1, round = 5, global round = 5), Loss/Aggregation: 1.7131031930446625\n",
            "(epoch = 1, round = 5, global round = 5), Accuracy/Aggregation: 37.44\n",
            "(epoch = 1, round = 5, global round = 5), Client to Server Bytes Sent/Training: 12640.0\n",
            "(epoch = 1, round = 5, global round = 5), Server to Client Bytes Sent/Training: 126376.0\n",
            "Train finished Global Round: 6\n",
            "(epoch = 1, round = 6, global round = 6), Loss/Training: 1.649020005762577\n",
            "(epoch = 1, round = 6, global round = 6), Accuracy/Training: 40.16\n",
            "reporting (epoch = 1, round = 6, global round = 6) for aggregation\n"
          ]
        },
        {
          "output_type": "stream",
          "name": "stderr",
          "text": [
            "\rRound:  30%|███       | 6/20 [00:06<00:15,  1.13s/round]"
          ]
        },
        {
          "output_type": "stream",
          "name": "stdout",
          "text": [
            "(epoch = 1, round = 6, global round = 6), Loss/Aggregation: 1.5528502240777016\n",
            "(epoch = 1, round = 6, global round = 6), Accuracy/Aggregation: 43.04\n",
            "(epoch = 1, round = 6, global round = 6), Client to Server Bytes Sent/Training: 12640.0\n",
            "(epoch = 1, round = 6, global round = 6), Server to Client Bytes Sent/Training: 126376.0\n",
            "Train finished Global Round: 7\n",
            "(epoch = 1, round = 7, global round = 7), Loss/Training: 1.5829492762684823\n",
            "(epoch = 1, round = 7, global round = 7), Accuracy/Training: 42.84\n",
            "reporting (epoch = 1, round = 7, global round = 7) for aggregation\n"
          ]
        },
        {
          "output_type": "stream",
          "name": "stderr",
          "text": [
            "\rRound:  35%|███▌      | 7/20 [00:07<00:14,  1.12s/round]"
          ]
        },
        {
          "output_type": "stream",
          "name": "stdout",
          "text": [
            "(epoch = 1, round = 7, global round = 7), Loss/Aggregation: 1.4901725977659226\n",
            "(epoch = 1, round = 7, global round = 7), Accuracy/Aggregation: 46.0\n",
            "(epoch = 1, round = 7, global round = 7), Client to Server Bytes Sent/Training: 12640.0\n",
            "(epoch = 1, round = 7, global round = 7), Server to Client Bytes Sent/Training: 126376.0\n",
            "Train finished Global Round: 8\n",
            "(epoch = 1, round = 8, global round = 8), Loss/Training: 1.5636085599660874\n",
            "(epoch = 1, round = 8, global round = 8), Accuracy/Training: 43.2\n",
            "reporting (epoch = 1, round = 8, global round = 8) for aggregation\n"
          ]
        },
        {
          "output_type": "stream",
          "name": "stderr",
          "text": [
            "\rRound:  40%|████      | 8/20 [00:08<00:13,  1.11s/round]"
          ]
        },
        {
          "output_type": "stream",
          "name": "stdout",
          "text": [
            "(epoch = 1, round = 8, global round = 8), Loss/Aggregation: 1.5486791841685772\n",
            "(epoch = 1, round = 8, global round = 8), Accuracy/Aggregation: 44.12\n",
            "(epoch = 1, round = 8, global round = 8), Client to Server Bytes Sent/Training: 12640.0\n",
            "(epoch = 1, round = 8, global round = 8), Server to Client Bytes Sent/Training: 126376.0\n",
            "Train finished Global Round: 9\n",
            "(epoch = 1, round = 9, global round = 9), Loss/Training: 1.544436900317669\n",
            "(epoch = 1, round = 9, global round = 9), Accuracy/Training: 44.24\n",
            "reporting (epoch = 1, round = 9, global round = 9) for aggregation\n"
          ]
        },
        {
          "output_type": "stream",
          "name": "stderr",
          "text": [
            "\rRound:  45%|████▌     | 9/20 [00:10<00:12,  1.11s/round]"
          ]
        },
        {
          "output_type": "stream",
          "name": "stdout",
          "text": [
            "(epoch = 1, round = 9, global round = 9), Loss/Aggregation: 1.462514628469944\n",
            "(epoch = 1, round = 9, global round = 9), Accuracy/Aggregation: 46.32\n",
            "(epoch = 1, round = 9, global round = 9), Client to Server Bytes Sent/Training: 12640.0\n",
            "(epoch = 1, round = 9, global round = 9), Server to Client Bytes Sent/Training: 126376.0\n",
            "Train finished Global Round: 10\n",
            "(epoch = 1, round = 10, global round = 10), Loss/Training: 1.4679244562983513\n",
            "(epoch = 1, round = 10, global round = 10), Accuracy/Training: 46.48\n",
            "reporting (epoch = 1, round = 10, global round = 10) for aggregation\n"
          ]
        },
        {
          "output_type": "stream",
          "name": "stderr",
          "text": [
            "\rRound:  50%|█████     | 10/20 [00:11<00:11,  1.11s/round]"
          ]
        },
        {
          "output_type": "stream",
          "name": "stdout",
          "text": [
            "(epoch = 1, round = 10, global round = 10), Loss/Aggregation: 1.4885208457708359\n",
            "(epoch = 1, round = 10, global round = 10), Accuracy/Aggregation: 46.36\n",
            "(epoch = 1, round = 10, global round = 10), Client to Server Bytes Sent/Training: 12640.0\n",
            "(epoch = 1, round = 10, global round = 10), Server to Client Bytes Sent/Training: 126376.0\n",
            "Train finished Global Round: 11\n",
            "(epoch = 1, round = 11, global round = 11), Loss/Training: 1.4987123757600784\n",
            "(epoch = 1, round = 11, global round = 11), Accuracy/Training: 45.68\n",
            "reporting (epoch = 1, round = 11, global round = 11) for aggregation\n"
          ]
        },
        {
          "output_type": "stream",
          "name": "stderr",
          "text": [
            "\rRound:  55%|█████▌    | 11/20 [00:12<00:09,  1.10s/round]"
          ]
        },
        {
          "output_type": "stream",
          "name": "stdout",
          "text": [
            "(epoch = 1, round = 11, global round = 11), Loss/Aggregation: 1.4635835483670234\n",
            "(epoch = 1, round = 11, global round = 11), Accuracy/Aggregation: 46.68\n",
            "(epoch = 1, round = 11, global round = 11), Client to Server Bytes Sent/Training: 12640.0\n",
            "(epoch = 1, round = 11, global round = 11), Server to Client Bytes Sent/Training: 126376.0\n",
            "Train finished Global Round: 12\n",
            "(epoch = 1, round = 12, global round = 12), Loss/Training: 1.4104761347174644\n",
            "(epoch = 1, round = 12, global round = 12), Accuracy/Training: 48.68\n",
            "reporting (epoch = 1, round = 12, global round = 12) for aggregation\n"
          ]
        },
        {
          "output_type": "stream",
          "name": "stderr",
          "text": [
            "\rRound:  60%|██████    | 12/20 [00:13<00:08,  1.10s/round]"
          ]
        },
        {
          "output_type": "stream",
          "name": "stdout",
          "text": [
            "(epoch = 1, round = 12, global round = 12), Loss/Aggregation: 1.4341545790433883\n",
            "(epoch = 1, round = 12, global round = 12), Accuracy/Aggregation: 48.12\n",
            "(epoch = 1, round = 12, global round = 12), Client to Server Bytes Sent/Training: 12640.0\n",
            "(epoch = 1, round = 12, global round = 12), Server to Client Bytes Sent/Training: 126376.0\n",
            "Train finished Global Round: 13\n",
            "(epoch = 1, round = 13, global round = 13), Loss/Training: 1.4009862899780274\n",
            "(epoch = 1, round = 13, global round = 13), Accuracy/Training: 49.84\n",
            "reporting (epoch = 1, round = 13, global round = 13) for aggregation\n"
          ]
        },
        {
          "output_type": "stream",
          "name": "stderr",
          "text": [
            "\rRound:  65%|██████▌   | 13/20 [00:14<00:07,  1.10s/round]"
          ]
        },
        {
          "output_type": "stream",
          "name": "stdout",
          "text": [
            "(epoch = 1, round = 13, global round = 13), Loss/Aggregation: 1.3706839248538016\n",
            "(epoch = 1, round = 13, global round = 13), Accuracy/Aggregation: 51.0\n",
            "(epoch = 1, round = 13, global round = 13), Client to Server Bytes Sent/Training: 12640.0\n",
            "(epoch = 1, round = 13, global round = 13), Server to Client Bytes Sent/Training: 126376.0\n",
            "Train finished Global Round: 14\n",
            "(epoch = 1, round = 14, global round = 14), Loss/Training: 1.376394657790661\n",
            "(epoch = 1, round = 14, global round = 14), Accuracy/Training: 51.44\n",
            "reporting (epoch = 1, round = 14, global round = 14) for aggregation\n"
          ]
        },
        {
          "output_type": "stream",
          "name": "stderr",
          "text": [
            "\rRound:  70%|███████   | 14/20 [00:15<00:06,  1.09s/round]"
          ]
        },
        {
          "output_type": "stream",
          "name": "stdout",
          "text": [
            "(epoch = 1, round = 14, global round = 14), Loss/Aggregation: 1.3966690987348556\n",
            "(epoch = 1, round = 14, global round = 14), Accuracy/Aggregation: 50.04\n",
            "(epoch = 1, round = 14, global round = 14), Client to Server Bytes Sent/Training: 12640.0\n",
            "(epoch = 1, round = 14, global round = 14), Server to Client Bytes Sent/Training: 126376.0\n",
            "Train finished Global Round: 15\n",
            "(epoch = 1, round = 15, global round = 15), Loss/Training: 1.3937914669513702\n",
            "(epoch = 1, round = 15, global round = 15), Accuracy/Training: 49.64\n",
            "reporting (epoch = 1, round = 15, global round = 15) for aggregation\n"
          ]
        },
        {
          "output_type": "stream",
          "name": "stderr",
          "text": [
            "\rRound:  75%|███████▌  | 15/20 [00:16<00:05,  1.10s/round]"
          ]
        },
        {
          "output_type": "stream",
          "name": "stdout",
          "text": [
            "(epoch = 1, round = 15, global round = 15), Loss/Aggregation: 1.3758579410612584\n",
            "(epoch = 1, round = 15, global round = 15), Accuracy/Aggregation: 49.76\n",
            "(epoch = 1, round = 15, global round = 15), Client to Server Bytes Sent/Training: 12640.0\n",
            "(epoch = 1, round = 15, global round = 15), Server to Client Bytes Sent/Training: 126376.0\n",
            "Train finished Global Round: 16\n",
            "(epoch = 1, round = 16, global round = 16), Loss/Training: 1.2993003606796265\n",
            "(epoch = 1, round = 16, global round = 16), Accuracy/Training: 52.88\n",
            "reporting (epoch = 1, round = 16, global round = 16) for aggregation\n"
          ]
        },
        {
          "output_type": "stream",
          "name": "stderr",
          "text": [
            "\rRound:  80%|████████  | 16/20 [00:17<00:04,  1.11s/round]"
          ]
        },
        {
          "output_type": "stream",
          "name": "stdout",
          "text": [
            "(epoch = 1, round = 16, global round = 16), Loss/Aggregation: 1.3645216070115567\n",
            "(epoch = 1, round = 16, global round = 16), Accuracy/Aggregation: 50.4\n",
            "(epoch = 1, round = 16, global round = 16), Client to Server Bytes Sent/Training: 12640.0\n",
            "(epoch = 1, round = 16, global round = 16), Server to Client Bytes Sent/Training: 126376.0\n",
            "Train finished Global Round: 17\n",
            "(epoch = 1, round = 17, global round = 17), Loss/Training: 1.3106815613806249\n",
            "(epoch = 1, round = 17, global round = 17), Accuracy/Training: 53.68\n",
            "reporting (epoch = 1, round = 17, global round = 17) for aggregation\n"
          ]
        },
        {
          "output_type": "stream",
          "name": "stderr",
          "text": [
            "\rRound:  85%|████████▌ | 17/20 [00:18<00:03,  1.10s/round]"
          ]
        },
        {
          "output_type": "stream",
          "name": "stdout",
          "text": [
            "(epoch = 1, round = 17, global round = 17), Loss/Aggregation: 1.3332767143845559\n",
            "(epoch = 1, round = 17, global round = 17), Accuracy/Aggregation: 51.8\n",
            "(epoch = 1, round = 17, global round = 17), Client to Server Bytes Sent/Training: 12640.0\n",
            "(epoch = 1, round = 17, global round = 17), Server to Client Bytes Sent/Training: 126376.0\n",
            "Train finished Global Round: 18\n",
            "(epoch = 1, round = 18, global round = 18), Loss/Training: 1.2571418851613998\n",
            "(epoch = 1, round = 18, global round = 18), Accuracy/Training: 55.36\n",
            "reporting (epoch = 1, round = 18, global round = 18) for aggregation\n"
          ]
        },
        {
          "output_type": "stream",
          "name": "stderr",
          "text": [
            "\rRound:  90%|█████████ | 18/20 [00:19<00:02,  1.10s/round]"
          ]
        },
        {
          "output_type": "stream",
          "name": "stdout",
          "text": [
            "(epoch = 1, round = 18, global round = 18), Loss/Aggregation: 1.248136217147112\n",
            "(epoch = 1, round = 18, global round = 18), Accuracy/Aggregation: 55.64\n",
            "(epoch = 1, round = 18, global round = 18), Client to Server Bytes Sent/Training: 12640.0\n",
            "(epoch = 1, round = 18, global round = 18), Server to Client Bytes Sent/Training: 126376.0\n",
            "Train finished Global Round: 19\n",
            "(epoch = 1, round = 19, global round = 19), Loss/Training: 1.28172812089324\n",
            "(epoch = 1, round = 19, global round = 19), Accuracy/Training: 54.0\n",
            "reporting (epoch = 1, round = 19, global round = 19) for aggregation\n"
          ]
        },
        {
          "output_type": "stream",
          "name": "stderr",
          "text": [
            "\rRound:  95%|█████████▌| 19/20 [00:21<00:01,  1.10s/round]"
          ]
        },
        {
          "output_type": "stream",
          "name": "stdout",
          "text": [
            "(epoch = 1, round = 19, global round = 19), Loss/Aggregation: 1.3301015309989452\n",
            "(epoch = 1, round = 19, global round = 19), Accuracy/Aggregation: 52.96\n",
            "(epoch = 1, round = 19, global round = 19), Client to Server Bytes Sent/Training: 12640.0\n",
            "(epoch = 1, round = 19, global round = 19), Server to Client Bytes Sent/Training: 126376.0\n",
            "Train finished Global Round: 20\n",
            "(epoch = 1, round = 20, global round = 20), Loss/Training: 1.2673112235963344\n",
            "(epoch = 1, round = 20, global round = 20), Accuracy/Training: 54.24\n",
            "reporting (epoch = 1, round = 20, global round = 20) for aggregation\n",
            "(epoch = 1, round = 20, global round = 20), Loss/Aggregation: 1.2815353155136109\n",
            "(epoch = 1, round = 20, global round = 20), Accuracy/Aggregation: 53.48\n",
            "(epoch = 1, round = 20, global round = 20), Client to Server Bytes Sent/Training: 12640.0\n",
            "(epoch = 1, round = 20, global round = 20), Server to Client Bytes Sent/Training: 126376.0\n",
            "Running (epoch = 1, round = 20, global round = 20) for Eval\n",
            "(epoch = 1, round = 20, global round = 20), Loss/Eval: 1.3544126484543084\n",
            "(epoch = 1, round = 20, global round = 20), Accuracy/Eval: 51.03\n"
          ]
        },
        {
          "output_type": "stream",
          "name": "stderr",
          "text": [
            "Round:  95%|█████████▌| 19/20 [00:23<00:01,  1.22s/round]\n",
            "Epoch:   0%|          | 0/1 [00:23<?, ?epoch/s]\n"
          ]
        }
      ]
    },
    {
      "cell_type": "markdown",
      "metadata": {
        "id": "zbl_2NYW6qZW"
      },
      "source": [
        "Note how the number of bytes during upload is not exactly 11847 (=126376 * 3/32). The additional overhead of 793 bytes is due to the upload messages also including scale and zero-point information, which is necessary server-side to dequantize the client update tensors. We now wrap up this tutorial by looking at another channel, [sparse mask channel](https://github.com/facebookresearch/FLSim/blob/main/channels/sparse_mask_channel.py) which implements sparsity on the client updates. The sparsity mask is client-specific, and the simulator supports two approaches to determine this mask : *random* and *Top-K*. Random mask is self-explanatory, with the per-tensor sparsity mask being set randomly based on the sparsity level, and *Top-K* sparsity masking out the lowest magnitude elements within each model update tensor. Let us now define a config using the Top-K mask with a sparsity level of 95%, and run a round of training using this compression. "
      ]
    },
    {
      "cell_type": "code",
      "metadata": {
        "id": "LLC2e_1p-bTR",
        "colab": {
          "base_uri": "https://localhost:8080/"
        },
        "outputId": "ed973a70-a8bf-4c25-e3d0-d25dd30d8b5d"
      },
      "source": [
        "json_config[\"trainer\"][\"channel\"] = {\n",
        "  \"report_communication_metrics\": True,\n",
        "  \"_base_\": \"base_sparse_mask_channel\",\n",
        "  \"proportion_of_zero_weights\":0.95,\n",
        "  \"sparsity_method\": \"topk\"\n",
        "}\n",
        "\n",
        "run_cifar10_fl_training(json_config)"
      ],
      "execution_count": 18,
      "outputs": [
        {
          "output_type": "stream",
          "name": "stderr",
          "text": [
            "/usr/local/lib/python3.7/dist-packages/hydra/experimental/initialize.py:36: UserWarning: hydra.experimental.initialize() is no longer experimental. Use hydra.initialize()\n",
            "  message=\"hydra.experimental.initialize() is no longer experimental.\"\n",
            "/usr/local/lib/python3.7/dist-packages/hydra/experimental/compose.py:19: UserWarning: hydra.experimental.compose() is no longer experimental. Use hydra.compose()\n",
            "  message=\"hydra.experimental.compose() is no longer experimental.\"\n",
            "Round:   0%|          | 0/20 [00:00<?, ?round/s]"
          ]
        },
        {
          "output_type": "stream",
          "name": "stdout",
          "text": [
            "Train finished Global Round: 1\n",
            "(epoch = 1, round = 1, global round = 1), Loss/Training: 2.355492594838142\n",
            "(epoch = 1, round = 1, global round = 1), Accuracy/Training: 12.48\n",
            "reporting (epoch = 1, round = 1, global round = 1) for aggregation\n"
          ]
        },
        {
          "output_type": "stream",
          "name": "stderr",
          "text": [
            "\rRound:   5%|▌         | 1/20 [00:01<00:21,  1.12s/round]"
          ]
        },
        {
          "output_type": "stream",
          "name": "stdout",
          "text": [
            "(epoch = 1, round = 1, global round = 1), Loss/Aggregation: 2.245325019955635\n",
            "(epoch = 1, round = 1, global round = 1), Accuracy/Aggregation: 16.68\n",
            "(epoch = 1, round = 1, global round = 1), Client to Server Bytes Sent/Training: 10285.25\n",
            "(epoch = 1, round = 1, global round = 1), Server to Client Bytes Sent/Training: 126376.0\n",
            "Train finished Global Round: 2\n",
            "(epoch = 1, round = 2, global round = 2), Loss/Training: 2.1523214742541312\n",
            "(epoch = 1, round = 2, global round = 2), Accuracy/Training: 20.68\n",
            "reporting (epoch = 1, round = 2, global round = 2) for aggregation\n"
          ]
        },
        {
          "output_type": "stream",
          "name": "stderr",
          "text": [
            "\rRound:  10%|█         | 2/20 [00:02<00:20,  1.12s/round]"
          ]
        },
        {
          "output_type": "stream",
          "name": "stdout",
          "text": [
            "(epoch = 1, round = 2, global round = 2), Loss/Aggregation: 2.0235329523682593\n",
            "(epoch = 1, round = 2, global round = 2), Accuracy/Aggregation: 25.72\n",
            "(epoch = 1, round = 2, global round = 2), Client to Server Bytes Sent/Training: 10285.25\n",
            "(epoch = 1, round = 2, global round = 2), Server to Client Bytes Sent/Training: 126376.0\n",
            "Train finished Global Round: 3\n",
            "(epoch = 1, round = 3, global round = 3), Loss/Training: 1.9762724757194519\n",
            "(epoch = 1, round = 3, global round = 3), Accuracy/Training: 28.8\n",
            "reporting (epoch = 1, round = 3, global round = 3) for aggregation\n"
          ]
        },
        {
          "output_type": "stream",
          "name": "stderr",
          "text": [
            "\rRound:  15%|█▌        | 3/20 [00:03<00:18,  1.11s/round]"
          ]
        },
        {
          "output_type": "stream",
          "name": "stdout",
          "text": [
            "(epoch = 1, round = 3, global round = 3), Loss/Aggregation: 1.9283110797405243\n",
            "(epoch = 1, round = 3, global round = 3), Accuracy/Aggregation: 28.24\n",
            "(epoch = 1, round = 3, global round = 3), Client to Server Bytes Sent/Training: 10285.25\n",
            "(epoch = 1, round = 3, global round = 3), Server to Client Bytes Sent/Training: 126376.0\n",
            "Train finished Global Round: 4\n",
            "(epoch = 1, round = 4, global round = 4), Loss/Training: 1.8607895374298096\n",
            "(epoch = 1, round = 4, global round = 4), Accuracy/Training: 35.36\n",
            "reporting (epoch = 1, round = 4, global round = 4) for aggregation\n"
          ]
        },
        {
          "output_type": "stream",
          "name": "stderr",
          "text": [
            "\rRound:  20%|██        | 4/20 [00:04<00:17,  1.11s/round]"
          ]
        },
        {
          "output_type": "stream",
          "name": "stdout",
          "text": [
            "(epoch = 1, round = 4, global round = 4), Loss/Aggregation: 1.783108299970627\n",
            "(epoch = 1, round = 4, global round = 4), Accuracy/Aggregation: 38.08\n",
            "(epoch = 1, round = 4, global round = 4), Client to Server Bytes Sent/Training: 10285.25\n",
            "(epoch = 1, round = 4, global round = 4), Server to Client Bytes Sent/Training: 126376.0\n",
            "Train finished Global Round: 5\n",
            "(epoch = 1, round = 5, global round = 5), Loss/Training: 1.7491693884134292\n",
            "(epoch = 1, round = 5, global round = 5), Accuracy/Training: 39.08\n",
            "reporting (epoch = 1, round = 5, global round = 5) for aggregation\n"
          ]
        },
        {
          "output_type": "stream",
          "name": "stderr",
          "text": [
            "\rRound:  25%|██▌       | 5/20 [00:05<00:16,  1.11s/round]"
          ]
        },
        {
          "output_type": "stream",
          "name": "stdout",
          "text": [
            "(epoch = 1, round = 5, global round = 5), Loss/Aggregation: 1.6895540788769723\n",
            "(epoch = 1, round = 5, global round = 5), Accuracy/Aggregation: 39.84\n",
            "(epoch = 1, round = 5, global round = 5), Client to Server Bytes Sent/Training: 10285.25\n",
            "(epoch = 1, round = 5, global round = 5), Server to Client Bytes Sent/Training: 126376.0\n",
            "Train finished Global Round: 6\n",
            "(epoch = 1, round = 6, global round = 6), Loss/Training: 1.6182945564389228\n",
            "(epoch = 1, round = 6, global round = 6), Accuracy/Training: 42.56\n",
            "reporting (epoch = 1, round = 6, global round = 6) for aggregation\n"
          ]
        },
        {
          "output_type": "stream",
          "name": "stderr",
          "text": [
            "\rRound:  30%|███       | 6/20 [00:06<00:15,  1.11s/round]"
          ]
        },
        {
          "output_type": "stream",
          "name": "stdout",
          "text": [
            "(epoch = 1, round = 6, global round = 6), Loss/Aggregation: 1.5870136678218842\n",
            "(epoch = 1, round = 6, global round = 6), Accuracy/Aggregation: 44.68\n",
            "(epoch = 1, round = 6, global round = 6), Client to Server Bytes Sent/Training: 10285.25\n",
            "(epoch = 1, round = 6, global round = 6), Server to Client Bytes Sent/Training: 126376.0\n",
            "Train finished Global Round: 7\n",
            "(epoch = 1, round = 7, global round = 7), Loss/Training: 1.5629233568906784\n",
            "(epoch = 1, round = 7, global round = 7), Accuracy/Training: 45.04\n",
            "reporting (epoch = 1, round = 7, global round = 7) for aggregation\n"
          ]
        },
        {
          "output_type": "stream",
          "name": "stderr",
          "text": [
            "\rRound:  35%|███▌      | 7/20 [00:07<00:14,  1.11s/round]"
          ]
        },
        {
          "output_type": "stream",
          "name": "stdout",
          "text": [
            "(epoch = 1, round = 7, global round = 7), Loss/Aggregation: 1.4998330727219582\n",
            "(epoch = 1, round = 7, global round = 7), Accuracy/Aggregation: 45.72\n",
            "(epoch = 1, round = 7, global round = 7), Client to Server Bytes Sent/Training: 10285.25\n",
            "(epoch = 1, round = 7, global round = 7), Server to Client Bytes Sent/Training: 126376.0\n",
            "Train finished Global Round: 8\n",
            "(epoch = 1, round = 8, global round = 8), Loss/Training: 1.5787794217467308\n",
            "(epoch = 1, round = 8, global round = 8), Accuracy/Training: 42.6\n",
            "reporting (epoch = 1, round = 8, global round = 8) for aggregation\n"
          ]
        },
        {
          "output_type": "stream",
          "name": "stderr",
          "text": [
            "\rRound:  40%|████      | 8/20 [00:08<00:13,  1.10s/round]"
          ]
        },
        {
          "output_type": "stream",
          "name": "stdout",
          "text": [
            "(epoch = 1, round = 8, global round = 8), Loss/Aggregation: 1.7152669489383698\n",
            "(epoch = 1, round = 8, global round = 8), Accuracy/Aggregation: 38.76\n",
            "(epoch = 1, round = 8, global round = 8), Client to Server Bytes Sent/Training: 10285.25\n",
            "(epoch = 1, round = 8, global round = 8), Server to Client Bytes Sent/Training: 126376.0\n",
            "Train finished Global Round: 9\n",
            "(epoch = 1, round = 9, global round = 9), Loss/Training: 1.564191560447216\n",
            "(epoch = 1, round = 9, global round = 9), Accuracy/Training: 44.6\n",
            "reporting (epoch = 1, round = 9, global round = 9) for aggregation\n"
          ]
        },
        {
          "output_type": "stream",
          "name": "stderr",
          "text": [
            "\rRound:  45%|████▌     | 9/20 [00:09<00:12,  1.10s/round]"
          ]
        },
        {
          "output_type": "stream",
          "name": "stdout",
          "text": [
            "(epoch = 1, round = 9, global round = 9), Loss/Aggregation: 1.5448164716362953\n",
            "(epoch = 1, round = 9, global round = 9), Accuracy/Aggregation: 44.84\n",
            "(epoch = 1, round = 9, global round = 9), Client to Server Bytes Sent/Training: 10285.25\n",
            "(epoch = 1, round = 9, global round = 9), Server to Client Bytes Sent/Training: 126376.0\n",
            "Train finished Global Round: 10\n",
            "(epoch = 1, round = 10, global round = 10), Loss/Training: 1.4569513484835626\n",
            "(epoch = 1, round = 10, global round = 10), Accuracy/Training: 47.24\n",
            "reporting (epoch = 1, round = 10, global round = 10) for aggregation\n"
          ]
        },
        {
          "output_type": "stream",
          "name": "stderr",
          "text": [
            "\rRound:  50%|█████     | 10/20 [00:11<00:11,  1.10s/round]"
          ]
        },
        {
          "output_type": "stream",
          "name": "stdout",
          "text": [
            "(epoch = 1, round = 10, global round = 10), Loss/Aggregation: 1.5338276132941246\n",
            "(epoch = 1, round = 10, global round = 10), Accuracy/Aggregation: 44.68\n",
            "(epoch = 1, round = 10, global round = 10), Client to Server Bytes Sent/Training: 10285.25\n",
            "(epoch = 1, round = 10, global round = 10), Server to Client Bytes Sent/Training: 126376.0\n",
            "Train finished Global Round: 11\n",
            "(epoch = 1, round = 11, global round = 11), Loss/Training: 1.4754543364048005\n",
            "(epoch = 1, round = 11, global round = 11), Accuracy/Training: 46.56\n",
            "reporting (epoch = 1, round = 11, global round = 11) for aggregation\n"
          ]
        },
        {
          "output_type": "stream",
          "name": "stderr",
          "text": [
            "\rRound:  55%|█████▌    | 11/20 [00:12<00:09,  1.10s/round]"
          ]
        },
        {
          "output_type": "stream",
          "name": "stdout",
          "text": [
            "(epoch = 1, round = 11, global round = 11), Loss/Aggregation: 1.4298688791692258\n",
            "(epoch = 1, round = 11, global round = 11), Accuracy/Aggregation: 47.16\n",
            "(epoch = 1, round = 11, global round = 11), Client to Server Bytes Sent/Training: 10285.25\n",
            "(epoch = 1, round = 11, global round = 11), Server to Client Bytes Sent/Training: 126376.0\n",
            "Train finished Global Round: 12\n",
            "(epoch = 1, round = 12, global round = 12), Loss/Training: 1.4412306256592273\n",
            "(epoch = 1, round = 12, global round = 12), Accuracy/Training: 48.12\n",
            "reporting (epoch = 1, round = 12, global round = 12) for aggregation\n"
          ]
        },
        {
          "output_type": "stream",
          "name": "stderr",
          "text": [
            "\rRound:  60%|██████    | 12/20 [00:13<00:08,  1.10s/round]"
          ]
        },
        {
          "output_type": "stream",
          "name": "stdout",
          "text": [
            "(epoch = 1, round = 12, global round = 12), Loss/Aggregation: 1.4883161820471287\n",
            "(epoch = 1, round = 12, global round = 12), Accuracy/Aggregation: 48.36\n",
            "(epoch = 1, round = 12, global round = 12), Client to Server Bytes Sent/Training: 10285.25\n",
            "(epoch = 1, round = 12, global round = 12), Server to Client Bytes Sent/Training: 126376.0\n",
            "Train finished Global Round: 13\n",
            "(epoch = 1, round = 13, global round = 13), Loss/Training: 1.413394696265459\n",
            "(epoch = 1, round = 13, global round = 13), Accuracy/Training: 49.88\n",
            "reporting (epoch = 1, round = 13, global round = 13) for aggregation\n"
          ]
        },
        {
          "output_type": "stream",
          "name": "stderr",
          "text": [
            "\rRound:  65%|██████▌   | 13/20 [00:14<00:07,  1.10s/round]"
          ]
        },
        {
          "output_type": "stream",
          "name": "stdout",
          "text": [
            "(epoch = 1, round = 13, global round = 13), Loss/Aggregation: 1.384757798910141\n",
            "(epoch = 1, round = 13, global round = 13), Accuracy/Aggregation: 50.04\n",
            "(epoch = 1, round = 13, global round = 13), Client to Server Bytes Sent/Training: 10285.25\n",
            "(epoch = 1, round = 13, global round = 13), Server to Client Bytes Sent/Training: 126376.0\n",
            "Train finished Global Round: 14\n",
            "(epoch = 1, round = 14, global round = 14), Loss/Training: 1.3699607349932195\n",
            "(epoch = 1, round = 14, global round = 14), Accuracy/Training: 50.68\n",
            "reporting (epoch = 1, round = 14, global round = 14) for aggregation\n"
          ]
        },
        {
          "output_type": "stream",
          "name": "stderr",
          "text": [
            "\rRound:  70%|███████   | 14/20 [00:15<00:06,  1.10s/round]"
          ]
        },
        {
          "output_type": "stream",
          "name": "stdout",
          "text": [
            "(epoch = 1, round = 14, global round = 14), Loss/Aggregation: 1.465699426084757\n",
            "(epoch = 1, round = 14, global round = 14), Accuracy/Aggregation: 45.2\n",
            "(epoch = 1, round = 14, global round = 14), Client to Server Bytes Sent/Training: 10285.25\n",
            "(epoch = 1, round = 14, global round = 14), Server to Client Bytes Sent/Training: 126376.0\n",
            "Train finished Global Round: 15\n",
            "(epoch = 1, round = 15, global round = 15), Loss/Training: 1.3506672456860542\n",
            "(epoch = 1, round = 15, global round = 15), Accuracy/Training: 51.28\n",
            "reporting (epoch = 1, round = 15, global round = 15) for aggregation\n"
          ]
        },
        {
          "output_type": "stream",
          "name": "stderr",
          "text": [
            "\rRound:  75%|███████▌  | 15/20 [00:16<00:05,  1.10s/round]"
          ]
        },
        {
          "output_type": "stream",
          "name": "stdout",
          "text": [
            "(epoch = 1, round = 15, global round = 15), Loss/Aggregation: 1.3019549749791621\n",
            "(epoch = 1, round = 15, global round = 15), Accuracy/Aggregation: 52.84\n",
            "(epoch = 1, round = 15, global round = 15), Client to Server Bytes Sent/Training: 10285.25\n",
            "(epoch = 1, round = 15, global round = 15), Server to Client Bytes Sent/Training: 126376.0\n",
            "Train finished Global Round: 16\n",
            "(epoch = 1, round = 16, global round = 16), Loss/Training: 1.3053696759045124\n",
            "(epoch = 1, round = 16, global round = 16), Accuracy/Training: 52.04\n",
            "reporting (epoch = 1, round = 16, global round = 16) for aggregation\n"
          ]
        },
        {
          "output_type": "stream",
          "name": "stderr",
          "text": [
            "\rRound:  80%|████████  | 16/20 [00:17<00:04,  1.11s/round]"
          ]
        },
        {
          "output_type": "stream",
          "name": "stdout",
          "text": [
            "(epoch = 1, round = 16, global round = 16), Loss/Aggregation: 1.3475152611732484\n",
            "(epoch = 1, round = 16, global round = 16), Accuracy/Aggregation: 50.84\n",
            "(epoch = 1, round = 16, global round = 16), Client to Server Bytes Sent/Training: 10285.25\n",
            "(epoch = 1, round = 16, global round = 16), Server to Client Bytes Sent/Training: 126376.0\n",
            "Train finished Global Round: 17\n",
            "(epoch = 1, round = 17, global round = 17), Loss/Training: 1.2795270800590515\n",
            "(epoch = 1, round = 17, global round = 17), Accuracy/Training: 53.48\n",
            "reporting (epoch = 1, round = 17, global round = 17) for aggregation\n"
          ]
        },
        {
          "output_type": "stream",
          "name": "stderr",
          "text": [
            "\rRound:  85%|████████▌ | 17/20 [00:18<00:03,  1.11s/round]"
          ]
        },
        {
          "output_type": "stream",
          "name": "stdout",
          "text": [
            "(epoch = 1, round = 17, global round = 17), Loss/Aggregation: 1.2911126241087914\n",
            "(epoch = 1, round = 17, global round = 17), Accuracy/Aggregation: 53.32\n",
            "(epoch = 1, round = 17, global round = 17), Client to Server Bytes Sent/Training: 10285.25\n",
            "(epoch = 1, round = 17, global round = 17), Server to Client Bytes Sent/Training: 126376.0\n",
            "Train finished Global Round: 18\n",
            "(epoch = 1, round = 18, global round = 18), Loss/Training: 1.2999810360372066\n",
            "(epoch = 1, round = 18, global round = 18), Accuracy/Training: 52.92\n",
            "reporting (epoch = 1, round = 18, global round = 18) for aggregation\n"
          ]
        },
        {
          "output_type": "stream",
          "name": "stderr",
          "text": [
            "\rRound:  90%|█████████ | 18/20 [00:19<00:02,  1.10s/round]"
          ]
        },
        {
          "output_type": "stream",
          "name": "stdout",
          "text": [
            "(epoch = 1, round = 18, global round = 18), Loss/Aggregation: 1.3205247521400452\n",
            "(epoch = 1, round = 18, global round = 18), Accuracy/Aggregation: 51.84\n",
            "(epoch = 1, round = 18, global round = 18), Client to Server Bytes Sent/Training: 10285.25\n",
            "(epoch = 1, round = 18, global round = 18), Server to Client Bytes Sent/Training: 126376.0\n",
            "Train finished Global Round: 19\n",
            "(epoch = 1, round = 19, global round = 19), Loss/Training: 1.2996930867433547\n",
            "(epoch = 1, round = 19, global round = 19), Accuracy/Training: 53.04\n",
            "reporting (epoch = 1, round = 19, global round = 19) for aggregation\n"
          ]
        },
        {
          "output_type": "stream",
          "name": "stderr",
          "text": [
            "\rRound:  95%|█████████▌| 19/20 [00:21<00:01,  1.11s/round]"
          ]
        },
        {
          "output_type": "stream",
          "name": "stdout",
          "text": [
            "(epoch = 1, round = 19, global round = 19), Loss/Aggregation: 1.2829436622560024\n",
            "(epoch = 1, round = 19, global round = 19), Accuracy/Aggregation: 54.6\n",
            "(epoch = 1, round = 19, global round = 19), Client to Server Bytes Sent/Training: 10285.25\n",
            "(epoch = 1, round = 19, global round = 19), Server to Client Bytes Sent/Training: 126376.0\n",
            "Train finished Global Round: 20\n",
            "(epoch = 1, round = 20, global round = 20), Loss/Training: 1.2664362393319606\n",
            "(epoch = 1, round = 20, global round = 20), Accuracy/Training: 54.76\n",
            "reporting (epoch = 1, round = 20, global round = 20) for aggregation\n",
            "(epoch = 1, round = 20, global round = 20), Loss/Aggregation: 1.2829885132610799\n",
            "(epoch = 1, round = 20, global round = 20), Accuracy/Aggregation: 52.8\n",
            "(epoch = 1, round = 20, global round = 20), Client to Server Bytes Sent/Training: 10285.25\n",
            "(epoch = 1, round = 20, global round = 20), Server to Client Bytes Sent/Training: 126376.0\n",
            "Running (epoch = 1, round = 20, global round = 20) for Eval\n",
            "(epoch = 1, round = 20, global round = 20), Loss/Eval: 1.3535583822056652\n",
            "(epoch = 1, round = 20, global round = 20), Accuracy/Eval: 51.16\n"
          ]
        },
        {
          "output_type": "stream",
          "name": "stderr",
          "text": [
            "Round:  95%|█████████▌| 19/20 [00:23<00:01,  1.22s/round]\n",
            "Epoch:   0%|          | 0/1 [00:23<?, ?epoch/s]\n"
          ]
        }
      ]
    },
    {
      "cell_type": "markdown",
      "metadata": {
        "id": "QqyTTIdZB3X6"
      },
      "source": [
        "While the non-sparse parameters consume only 37912 bytes, we also need to pack in additional information about the sparsity pattern per tensor. The simulator supports two ways to do this: *bitmask* and *coo*. In the bitmask setting, the sparsity pattern is transported as a concatenated bitstream. We also support another mode *coo*, which follows the popular COO format for encoding sparse tensors. Here, the non-sparse tensor weights are transmitted along with their 64-bit integer coordinates. Generally *bitmask* has a lower overhead unless at very high sparsity values, where *coo* is more efficient. Let us conclude our tutorial by running a round of Cifar-10 training with *coo* bytes measurement."
      ]
    },
    {
      "cell_type": "code",
      "metadata": {
        "id": "AEW9BNiFFPtK",
        "colab": {
          "base_uri": "https://localhost:8080/"
        },
        "outputId": "bb5f427c-525c-48b6-9be8-3993dd358883"
      },
      "source": [
        "json_config[\"trainer\"][\"channel\"] = {\n",
        "  \"report_communication_metrics\": True,\n",
        "  \"_base_\": \"base_sparse_mask_channel\",\n",
        "  \"proportion_of_zero_weights\": 0.95,\n",
        "  \"sparsity_method\": \"topk\",\n",
        "  \"compressed_size_measurement\": \"coo\"\n",
        "}\n",
        "\n",
        "run_cifar10_fl_training(json_config)"
      ],
      "execution_count": 19,
      "outputs": [
        {
          "output_type": "stream",
          "name": "stderr",
          "text": [
            "/usr/local/lib/python3.7/dist-packages/hydra/experimental/initialize.py:36: UserWarning: hydra.experimental.initialize() is no longer experimental. Use hydra.initialize()\n",
            "  message=\"hydra.experimental.initialize() is no longer experimental.\"\n",
            "/usr/local/lib/python3.7/dist-packages/hydra/experimental/compose.py:19: UserWarning: hydra.experimental.compose() is no longer experimental. Use hydra.compose()\n",
            "  message=\"hydra.experimental.compose() is no longer experimental.\"\n",
            "Round:   0%|          | 0/20 [00:00<?, ?round/s]"
          ]
        },
        {
          "output_type": "stream",
          "name": "stdout",
          "text": [
            "Train finished Global Round: 1\n",
            "(epoch = 1, round = 1, global round = 1), Loss/Training: 2.2945614755153656\n",
            "(epoch = 1, round = 1, global round = 1), Accuracy/Training: 15.6\n",
            "reporting (epoch = 1, round = 1, global round = 1) for aggregation\n"
          ]
        },
        {
          "output_type": "stream",
          "name": "stderr",
          "text": [
            "\rRound:   5%|▌         | 1/20 [00:01<00:20,  1.10s/round]"
          ]
        },
        {
          "output_type": "stream",
          "name": "stdout",
          "text": [
            "(epoch = 1, round = 1, global round = 1), Loss/Aggregation: 2.2425229862332343\n",
            "(epoch = 1, round = 1, global round = 1), Accuracy/Aggregation: 13.64\n",
            "(epoch = 1, round = 1, global round = 1), Client to Server Bytes Sent/Training: 54408.0\n",
            "(epoch = 1, round = 1, global round = 1), Server to Client Bytes Sent/Training: 126376.0\n",
            "Train finished Global Round: 2\n",
            "(epoch = 1, round = 2, global round = 2), Loss/Training: 2.0917357608675955\n",
            "(epoch = 1, round = 2, global round = 2), Accuracy/Training: 23.44\n",
            "reporting (epoch = 1, round = 2, global round = 2) for aggregation\n"
          ]
        },
        {
          "output_type": "stream",
          "name": "stderr",
          "text": [
            "\rRound:  10%|█         | 2/20 [00:02<00:19,  1.10s/round]"
          ]
        },
        {
          "output_type": "stream",
          "name": "stdout",
          "text": [
            "(epoch = 1, round = 2, global round = 2), Loss/Aggregation: 1.926017865538597\n",
            "(epoch = 1, round = 2, global round = 2), Accuracy/Aggregation: 30.76\n",
            "(epoch = 1, round = 2, global round = 2), Client to Server Bytes Sent/Training: 54408.0\n",
            "(epoch = 1, round = 2, global round = 2), Server to Client Bytes Sent/Training: 126376.0\n",
            "Train finished Global Round: 3\n",
            "(epoch = 1, round = 3, global round = 3), Loss/Training: 1.907382133603096\n",
            "(epoch = 1, round = 3, global round = 3), Accuracy/Training: 31.68\n",
            "reporting (epoch = 1, round = 3, global round = 3) for aggregation\n"
          ]
        },
        {
          "output_type": "stream",
          "name": "stderr",
          "text": [
            "\rRound:  15%|█▌        | 3/20 [00:03<00:18,  1.10s/round]"
          ]
        },
        {
          "output_type": "stream",
          "name": "stdout",
          "text": [
            "(epoch = 1, round = 3, global round = 3), Loss/Aggregation: 1.7902868747711183\n",
            "(epoch = 1, round = 3, global round = 3), Accuracy/Aggregation: 35.76\n",
            "(epoch = 1, round = 3, global round = 3), Client to Server Bytes Sent/Training: 54408.0\n",
            "(epoch = 1, round = 3, global round = 3), Server to Client Bytes Sent/Training: 126376.0\n",
            "Train finished Global Round: 4\n",
            "(epoch = 1, round = 4, global round = 4), Loss/Training: 1.8270927861332893\n",
            "(epoch = 1, round = 4, global round = 4), Accuracy/Training: 34.2\n",
            "reporting (epoch = 1, round = 4, global round = 4) for aggregation\n"
          ]
        },
        {
          "output_type": "stream",
          "name": "stderr",
          "text": [
            "\rRound:  20%|██        | 4/20 [00:04<00:17,  1.10s/round]"
          ]
        },
        {
          "output_type": "stream",
          "name": "stdout",
          "text": [
            "(epoch = 1, round = 4, global round = 4), Loss/Aggregation: 1.7756311252713204\n",
            "(epoch = 1, round = 4, global round = 4), Accuracy/Aggregation: 35.48\n",
            "(epoch = 1, round = 4, global round = 4), Client to Server Bytes Sent/Training: 54408.0\n",
            "(epoch = 1, round = 4, global round = 4), Server to Client Bytes Sent/Training: 126376.0\n",
            "Train finished Global Round: 5\n",
            "(epoch = 1, round = 5, global round = 5), Loss/Training: 1.7007011830806733\n",
            "(epoch = 1, round = 5, global round = 5), Accuracy/Training: 37.96\n",
            "reporting (epoch = 1, round = 5, global round = 5) for aggregation\n"
          ]
        },
        {
          "output_type": "stream",
          "name": "stderr",
          "text": [
            "\rRound:  25%|██▌       | 5/20 [00:05<00:16,  1.11s/round]"
          ]
        },
        {
          "output_type": "stream",
          "name": "stdout",
          "text": [
            "(epoch = 1, round = 5, global round = 5), Loss/Aggregation: 1.62022103369236\n",
            "(epoch = 1, round = 5, global round = 5), Accuracy/Aggregation: 40.96\n",
            "(epoch = 1, round = 5, global round = 5), Client to Server Bytes Sent/Training: 54408.0\n",
            "(epoch = 1, round = 5, global round = 5), Server to Client Bytes Sent/Training: 126376.0\n",
            "Train finished Global Round: 6\n",
            "(epoch = 1, round = 6, global round = 6), Loss/Training: 1.6100349619984626\n",
            "(epoch = 1, round = 6, global round = 6), Accuracy/Training: 42.88\n",
            "reporting (epoch = 1, round = 6, global round = 6) for aggregation\n"
          ]
        },
        {
          "output_type": "stream",
          "name": "stderr",
          "text": [
            "\rRound:  30%|███       | 6/20 [00:06<00:15,  1.11s/round]"
          ]
        },
        {
          "output_type": "stream",
          "name": "stdout",
          "text": [
            "(epoch = 1, round = 6, global round = 6), Loss/Aggregation: 1.5296072617173195\n",
            "(epoch = 1, round = 6, global round = 6), Accuracy/Aggregation: 42.96\n",
            "(epoch = 1, round = 6, global round = 6), Client to Server Bytes Sent/Training: 54408.0\n",
            "(epoch = 1, round = 6, global round = 6), Server to Client Bytes Sent/Training: 126376.0\n",
            "Train finished Global Round: 7\n",
            "(epoch = 1, round = 7, global round = 7), Loss/Training: 1.5761718302965164\n",
            "(epoch = 1, round = 7, global round = 7), Accuracy/Training: 41.6\n",
            "reporting (epoch = 1, round = 7, global round = 7) for aggregation\n"
          ]
        },
        {
          "output_type": "stream",
          "name": "stderr",
          "text": [
            "\rRound:  35%|███▌      | 7/20 [00:07<00:14,  1.10s/round]"
          ]
        },
        {
          "output_type": "stream",
          "name": "stdout",
          "text": [
            "(epoch = 1, round = 7, global round = 7), Loss/Aggregation: 1.6189813002943994\n",
            "(epoch = 1, round = 7, global round = 7), Accuracy/Aggregation: 40.44\n",
            "(epoch = 1, round = 7, global round = 7), Client to Server Bytes Sent/Training: 54408.0\n",
            "(epoch = 1, round = 7, global round = 7), Server to Client Bytes Sent/Training: 126376.0\n",
            "Train finished Global Round: 8\n",
            "(epoch = 1, round = 8, global round = 8), Loss/Training: 1.5654849842190743\n",
            "(epoch = 1, round = 8, global round = 8), Accuracy/Training: 43.72\n",
            "reporting (epoch = 1, round = 8, global round = 8) for aggregation\n"
          ]
        },
        {
          "output_type": "stream",
          "name": "stderr",
          "text": [
            "\rRound:  40%|████      | 8/20 [00:08<00:13,  1.11s/round]"
          ]
        },
        {
          "output_type": "stream",
          "name": "stdout",
          "text": [
            "(epoch = 1, round = 8, global round = 8), Loss/Aggregation: 1.5298565298318862\n",
            "(epoch = 1, round = 8, global round = 8), Accuracy/Aggregation: 44.56\n",
            "(epoch = 1, round = 8, global round = 8), Client to Server Bytes Sent/Training: 54408.0\n",
            "(epoch = 1, round = 8, global round = 8), Server to Client Bytes Sent/Training: 126376.0\n",
            "Train finished Global Round: 9\n",
            "(epoch = 1, round = 9, global round = 9), Loss/Training: 1.4581272199749946\n",
            "(epoch = 1, round = 9, global round = 9), Accuracy/Training: 46.88\n",
            "reporting (epoch = 1, round = 9, global round = 9) for aggregation\n"
          ]
        },
        {
          "output_type": "stream",
          "name": "stderr",
          "text": [
            "\rRound:  45%|████▌     | 9/20 [00:09<00:12,  1.11s/round]"
          ]
        },
        {
          "output_type": "stream",
          "name": "stdout",
          "text": [
            "(epoch = 1, round = 9, global round = 9), Loss/Aggregation: 1.504291194677353\n",
            "(epoch = 1, round = 9, global round = 9), Accuracy/Aggregation: 47.44\n",
            "(epoch = 1, round = 9, global round = 9), Client to Server Bytes Sent/Training: 54408.0\n",
            "(epoch = 1, round = 9, global round = 9), Server to Client Bytes Sent/Training: 126376.0\n",
            "Train finished Global Round: 10\n",
            "(epoch = 1, round = 10, global round = 10), Loss/Training: 1.4693870693445206\n",
            "(epoch = 1, round = 10, global round = 10), Accuracy/Training: 47.72\n",
            "reporting (epoch = 1, round = 10, global round = 10) for aggregation\n"
          ]
        },
        {
          "output_type": "stream",
          "name": "stderr",
          "text": [
            "\rRound:  50%|█████     | 10/20 [00:11<00:11,  1.11s/round]"
          ]
        },
        {
          "output_type": "stream",
          "name": "stdout",
          "text": [
            "(epoch = 1, round = 10, global round = 10), Loss/Aggregation: 1.4485821917653083\n",
            "(epoch = 1, round = 10, global round = 10), Accuracy/Aggregation: 48.28\n",
            "(epoch = 1, round = 10, global round = 10), Client to Server Bytes Sent/Training: 54408.0\n",
            "(epoch = 1, round = 10, global round = 10), Server to Client Bytes Sent/Training: 126376.0\n",
            "Train finished Global Round: 11\n",
            "(epoch = 1, round = 11, global round = 11), Loss/Training: 1.4276889726519584\n",
            "(epoch = 1, round = 11, global round = 11), Accuracy/Training: 47.84\n",
            "reporting (epoch = 1, round = 11, global round = 11) for aggregation\n"
          ]
        },
        {
          "output_type": "stream",
          "name": "stderr",
          "text": [
            "\rRound:  55%|█████▌    | 11/20 [00:12<00:10,  1.11s/round]"
          ]
        },
        {
          "output_type": "stream",
          "name": "stdout",
          "text": [
            "(epoch = 1, round = 11, global round = 11), Loss/Aggregation: 1.4285152122378348\n",
            "(epoch = 1, round = 11, global round = 11), Accuracy/Aggregation: 48.56\n",
            "(epoch = 1, round = 11, global round = 11), Client to Server Bytes Sent/Training: 54408.0\n",
            "(epoch = 1, round = 11, global round = 11), Server to Client Bytes Sent/Training: 126376.0\n",
            "Train finished Global Round: 12\n",
            "(epoch = 1, round = 12, global round = 12), Loss/Training: 1.385540772229433\n",
            "(epoch = 1, round = 12, global round = 12), Accuracy/Training: 49.64\n",
            "reporting (epoch = 1, round = 12, global round = 12) for aggregation\n"
          ]
        },
        {
          "output_type": "stream",
          "name": "stderr",
          "text": [
            "\rRound:  60%|██████    | 12/20 [00:13<00:08,  1.11s/round]"
          ]
        },
        {
          "output_type": "stream",
          "name": "stdout",
          "text": [
            "(epoch = 1, round = 12, global round = 12), Loss/Aggregation: 1.5348424777388572\n",
            "(epoch = 1, round = 12, global round = 12), Accuracy/Aggregation: 45.44\n",
            "(epoch = 1, round = 12, global round = 12), Client to Server Bytes Sent/Training: 54408.0\n",
            "(epoch = 1, round = 12, global round = 12), Server to Client Bytes Sent/Training: 126376.0\n",
            "Train finished Global Round: 13\n",
            "(epoch = 1, round = 13, global round = 13), Loss/Training: 1.3614066645503045\n",
            "(epoch = 1, round = 13, global round = 13), Accuracy/Training: 50.8\n",
            "reporting (epoch = 1, round = 13, global round = 13) for aggregation\n"
          ]
        },
        {
          "output_type": "stream",
          "name": "stderr",
          "text": [
            "\rRound:  65%|██████▌   | 13/20 [00:14<00:07,  1.11s/round]"
          ]
        },
        {
          "output_type": "stream",
          "name": "stdout",
          "text": [
            "(epoch = 1, round = 13, global round = 13), Loss/Aggregation: 1.3357993267476558\n",
            "(epoch = 1, round = 13, global round = 13), Accuracy/Aggregation: 51.76\n",
            "(epoch = 1, round = 13, global round = 13), Client to Server Bytes Sent/Training: 54408.0\n",
            "(epoch = 1, round = 13, global round = 13), Server to Client Bytes Sent/Training: 126376.0\n",
            "Train finished Global Round: 14\n",
            "(epoch = 1, round = 14, global round = 14), Loss/Training: 1.3076825618743897\n",
            "(epoch = 1, round = 14, global round = 14), Accuracy/Training: 53.0\n",
            "reporting (epoch = 1, round = 14, global round = 14) for aggregation\n"
          ]
        },
        {
          "output_type": "stream",
          "name": "stderr",
          "text": [
            "\rRound:  70%|███████   | 14/20 [00:15<00:06,  1.11s/round]"
          ]
        },
        {
          "output_type": "stream",
          "name": "stdout",
          "text": [
            "(epoch = 1, round = 14, global round = 14), Loss/Aggregation: 1.3510680809617042\n",
            "(epoch = 1, round = 14, global round = 14), Accuracy/Aggregation: 51.96\n",
            "(epoch = 1, round = 14, global round = 14), Client to Server Bytes Sent/Training: 54408.0\n",
            "(epoch = 1, round = 14, global round = 14), Server to Client Bytes Sent/Training: 126376.0\n",
            "Train finished Global Round: 15\n",
            "(epoch = 1, round = 15, global round = 15), Loss/Training: 1.3597859926521778\n",
            "(epoch = 1, round = 15, global round = 15), Accuracy/Training: 51.32\n",
            "reporting (epoch = 1, round = 15, global round = 15) for aggregation\n"
          ]
        },
        {
          "output_type": "stream",
          "name": "stderr",
          "text": [
            "\rRound:  75%|███████▌  | 15/20 [00:16<00:05,  1.10s/round]"
          ]
        },
        {
          "output_type": "stream",
          "name": "stdout",
          "text": [
            "(epoch = 1, round = 15, global round = 15), Loss/Aggregation: 1.3451928094029426\n",
            "(epoch = 1, round = 15, global round = 15), Accuracy/Aggregation: 50.84\n",
            "(epoch = 1, round = 15, global round = 15), Client to Server Bytes Sent/Training: 54408.0\n",
            "(epoch = 1, round = 15, global round = 15), Server to Client Bytes Sent/Training: 126376.0\n",
            "Train finished Global Round: 16\n",
            "(epoch = 1, round = 16, global round = 16), Loss/Training: 1.2905085958540439\n",
            "(epoch = 1, round = 16, global round = 16), Accuracy/Training: 54.12\n",
            "reporting (epoch = 1, round = 16, global round = 16) for aggregation\n"
          ]
        },
        {
          "output_type": "stream",
          "name": "stderr",
          "text": [
            "\rRound:  80%|████████  | 16/20 [00:17<00:04,  1.10s/round]"
          ]
        },
        {
          "output_type": "stream",
          "name": "stdout",
          "text": [
            "(epoch = 1, round = 16, global round = 16), Loss/Aggregation: 1.3217324912548065\n",
            "(epoch = 1, round = 16, global round = 16), Accuracy/Aggregation: 53.52\n",
            "(epoch = 1, round = 16, global round = 16), Client to Server Bytes Sent/Training: 54408.0\n",
            "(epoch = 1, round = 16, global round = 16), Server to Client Bytes Sent/Training: 126376.0\n",
            "Train finished Global Round: 17\n",
            "(epoch = 1, round = 17, global round = 17), Loss/Training: 1.266901535540819\n",
            "(epoch = 1, round = 17, global round = 17), Accuracy/Training: 54.8\n",
            "reporting (epoch = 1, round = 17, global round = 17) for aggregation\n"
          ]
        },
        {
          "output_type": "stream",
          "name": "stderr",
          "text": [
            "\rRound:  85%|████████▌ | 17/20 [00:18<00:03,  1.10s/round]"
          ]
        },
        {
          "output_type": "stream",
          "name": "stdout",
          "text": [
            "(epoch = 1, round = 17, global round = 17), Loss/Aggregation: 1.2755267828702928\n",
            "(epoch = 1, round = 17, global round = 17), Accuracy/Aggregation: 52.52\n",
            "(epoch = 1, round = 17, global round = 17), Client to Server Bytes Sent/Training: 54408.0\n",
            "(epoch = 1, round = 17, global round = 17), Server to Client Bytes Sent/Training: 126376.0\n",
            "Train finished Global Round: 18\n",
            "(epoch = 1, round = 18, global round = 18), Loss/Training: 1.2545350730419158\n",
            "(epoch = 1, round = 18, global round = 18), Accuracy/Training: 54.76\n",
            "reporting (epoch = 1, round = 18, global round = 18) for aggregation\n"
          ]
        },
        {
          "output_type": "stream",
          "name": "stderr",
          "text": [
            "\rRound:  90%|█████████ | 18/20 [00:19<00:02,  1.11s/round]"
          ]
        },
        {
          "output_type": "stream",
          "name": "stdout",
          "text": [
            "(epoch = 1, round = 18, global round = 18), Loss/Aggregation: 1.2449420608580113\n",
            "(epoch = 1, round = 18, global round = 18), Accuracy/Aggregation: 54.88\n",
            "(epoch = 1, round = 18, global round = 18), Client to Server Bytes Sent/Training: 54408.0\n",
            "(epoch = 1, round = 18, global round = 18), Server to Client Bytes Sent/Training: 126376.0\n",
            "Train finished Global Round: 19\n",
            "(epoch = 1, round = 19, global round = 19), Loss/Training: 1.2409622445702553\n",
            "(epoch = 1, round = 19, global round = 19), Accuracy/Training: 54.8\n",
            "reporting (epoch = 1, round = 19, global round = 19) for aggregation\n"
          ]
        },
        {
          "output_type": "stream",
          "name": "stderr",
          "text": [
            "\rRound:  95%|█████████▌| 19/20 [00:21<00:01,  1.11s/round]"
          ]
        },
        {
          "output_type": "stream",
          "name": "stdout",
          "text": [
            "(epoch = 1, round = 19, global round = 19), Loss/Aggregation: 1.264750774204731\n",
            "(epoch = 1, round = 19, global round = 19), Accuracy/Aggregation: 54.24\n",
            "(epoch = 1, round = 19, global round = 19), Client to Server Bytes Sent/Training: 54408.0\n",
            "(epoch = 1, round = 19, global round = 19), Server to Client Bytes Sent/Training: 126376.0\n",
            "Train finished Global Round: 20\n",
            "(epoch = 1, round = 20, global round = 20), Loss/Training: 1.1887283816933631\n",
            "(epoch = 1, round = 20, global round = 20), Accuracy/Training: 56.52\n",
            "reporting (epoch = 1, round = 20, global round = 20) for aggregation\n",
            "(epoch = 1, round = 20, global round = 20), Loss/Aggregation: 1.1686582043766975\n",
            "(epoch = 1, round = 20, global round = 20), Accuracy/Aggregation: 59.04\n",
            "(epoch = 1, round = 20, global round = 20), Client to Server Bytes Sent/Training: 54408.0\n",
            "(epoch = 1, round = 20, global round = 20), Server to Client Bytes Sent/Training: 126376.0\n",
            "Running (epoch = 1, round = 20, global round = 20) for Eval\n",
            "(epoch = 1, round = 20, global round = 20), Loss/Eval: 1.2913313299417495\n",
            "(epoch = 1, round = 20, global round = 20), Accuracy/Eval: 54.9\n"
          ]
        },
        {
          "output_type": "stream",
          "name": "stderr",
          "text": [
            "Round:  95%|█████████▌| 19/20 [00:23<00:01,  1.22s/round]\n",
            "Epoch:   0%|          | 0/1 [00:23<?, ?epoch/s]\n"
          ]
        }
      ]
    },
    {
      "cell_type": "markdown",
      "metadata": {
        "id": "pjBBk5SIH19t"
      },
      "source": [
        "This tutorial has provided a concise overview of how to use the existing channel features in FLSim for communication efficiency. This should be useful for any development work on experimenting with different compression approaches to enable scalable federated learning. Please refer to https://github.com/facebookresearch/FLSim/tree/main/channels for the code pointers to implementation of different channels as well as the communication metrics reporting."
      ]
    }
  ]
}
